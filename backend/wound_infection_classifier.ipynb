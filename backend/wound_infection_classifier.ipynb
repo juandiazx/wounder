{
  "nbformat": 4,
  "nbformat_minor": 0,
  "metadata": {
    "colab": {
      "provenance": [],
      "collapsed_sections": [
        "noivQdQZ1SkV",
        "tfE_my4nrFaB"
      ]
    },
    "kernelspec": {
      "display_name": "Python 3",
      "name": "python3"
    }
  },
  "cells": [
    {
      "cell_type": "markdown",
      "metadata": {
        "id": "nREGulneIhM7"
      },
      "source": [
        "# Entrenmiento con una RN Convolucional\n",
        "\n",
        "A continuación vamos a probar el corpus que acabamos de crear utilizando una red convolucional similar a la utilizada en la práctica anterior.\n",
        "\n",
        "1.   Arrastra el fichero zip creado en el punto anterior dentro de la carpeta <code>content</code>.\n",
        "\n",
        "2.   Descomprime el zip usando el siguiente código. Primero has de cambiar en el código el nombre del fichero a descomprimir."
      ]
    },
    {
      "cell_type": "code",
      "metadata": {
        "id": "tE-Sff3ULvuT"
      },
      "source": [
        "import zipfile\n",
        "\n",
        "local_zip = '/content/corpus.zip'\n",
        "zip_ref = zipfile.ZipFile(local_zip, 'r')\n",
        "zip_ref.extractall('/content/')\n",
        "zip_ref.close()"
      ],
      "execution_count": null,
      "outputs": []
    },
    {
      "cell_type": "markdown",
      "metadata": {
        "id": "6q9zR2KBTtuV"
      },
      "source": [
        "La generación del corpus a partir de ficheros de imágenes con Data Augmentation es similar a la realizada en una práctica anterior. La diferencia es que ahora vamos a trabajar con imágenes de 250x250 y a todo color."
      ]
    },
    {
      "cell_type": "code",
      "metadata": {
        "colab": {
          "base_uri": "https://localhost:8080/"
        },
        "id": "1y6tmiNbZJlW",
        "outputId": "bf70e440-e458-40b3-fcff-f5e70d64149c"
      },
      "source": [
        "import tensorflow as tf\n",
        "from tensorflow.keras.preprocessing.image import ImageDataGenerator\n",
        "#import keras_preprocessing\n",
        "#from keras_preprocessing import image\n",
        "#from keras_preprocessing.image import ImageDataGenerator\n",
        "\n",
        "BATCH_SIZE = 100\n",
        "WIDTH      = 150\n",
        "HEIGHT     = 150\n",
        "\n",
        "training_datagen = ImageDataGenerator(\n",
        "      rescale = 1./255,\n",
        "      rotation_range=5,\n",
        "      width_shift_range=0.05,\n",
        "      height_shift_range=0.05,\n",
        "      zoom_range=0.3,\n",
        "      horizontal_flip=True,\n",
        "      shear_range=5)\n",
        "\n",
        "train_generator = training_datagen.flow_from_directory(\n",
        "\t  \"/content/training/\",\n",
        "    batch_size=BATCH_SIZE,\n",
        "    #color_mode=\"grayscale\",\n",
        "\t  target_size=(WIDTH, HEIGHT))\n",
        "\n",
        "validation_datagen = ImageDataGenerator(\n",
        "      rescale = 1./255)\n",
        "\n",
        "validation_generator = validation_datagen.flow_from_directory(\n",
        "\t  \"/content/validation/\",\n",
        "    batch_size=BATCH_SIZE,\n",
        "    #color_mode=\"grayscale\",\n",
        "\t  target_size=(WIDTH, HEIGHT))"
      ],
      "execution_count": null,
      "outputs": [
        {
          "output_type": "stream",
          "name": "stdout",
          "text": [
            "Found 193 images belonging to 2 classes.\n",
            "Found 51 images belonging to 2 classes.\n"
          ]
        }
      ]
    },
    {
      "cell_type": "markdown",
      "metadata": {
        "id": "rryww0Ne2LT3"
      },
      "source": [
        "A continuación, se define la red convolucional:"
      ]
    },
    {
      "cell_type": "code",
      "metadata": {
        "colab": {
          "base_uri": "https://localhost:8080/",
          "height": 1000
        },
        "id": "LWTisYLQM1aM",
        "outputId": "b7bf8a0f-7b34-4cac-e429-b1c6379f3e30"
      },
      "source": [
        "model = tf.keras.models.Sequential([\n",
        "    tf.keras.layers.Conv2D(32, (3,3), activation='relu', input_shape=(WIDTH, HEIGHT, 3)),\n",
        "    tf.keras.layers.MaxPooling2D(2, 2),\n",
        "    tf.keras.layers.Conv2D(64, (3,3), activation='relu'),\n",
        "    tf.keras.layers.MaxPooling2D(2,2),\n",
        "    tf.keras.layers.Conv2D(128, (3,3), activation='relu'),\n",
        "    tf.keras.layers.MaxPooling2D(2,2),\n",
        "    tf.keras.layers.Conv2D(128, (3,3), activation='relu'),\n",
        "    tf.keras.layers.MaxPooling2D(2,2),\n",
        "    tf.keras.layers.Flatten(),\n",
        "    tf.keras.layers.Dense(512, activation='relu'),\n",
        "    tf.keras.layers.Dense(2, activation='softmax') # Changed units from 3 to 2\n",
        "])\n",
        "\n",
        "model.summary()\n",
        "\n",
        "model.compile(loss = 'categorical_crossentropy',\n",
        "              optimizer='rmsprop',\n",
        "              metrics=['accuracy'])\n",
        "\n",
        "history = model.fit(\n",
        "    train_generator,\n",
        "    batch_size = BATCH_SIZE,\n",
        "    epochs=75, #100\n",
        "    validation_data = validation_generator,\n",
        "    validation_batch_size = BATCH_SIZE)"
      ],
      "execution_count": null,
      "outputs": [
        {
          "metadata": {
            "tags": null
          },
          "name": "stderr",
          "output_type": "stream",
          "text": [
            "/usr/local/lib/python3.11/dist-packages/keras/src/layers/convolutional/base_conv.py:107: UserWarning: Do not pass an `input_shape`/`input_dim` argument to a layer. When using Sequential models, prefer using an `Input(shape)` object as the first layer in the model instead.\n",
            "  super().__init__(activity_regularizer=activity_regularizer, **kwargs)\n"
          ]
        },
        {
          "data": {
            "text/html": [
              "<pre style=\"white-space:pre;overflow-x:auto;line-height:normal;font-family:Menlo,'DejaVu Sans Mono',consolas,'Courier New',monospace\"><span style=\"font-weight: bold\">Model: \"sequential_5\"</span>\n",
              "</pre>\n"
            ],
            "text/plain": [
              "\u001b[1mModel: \"sequential_5\"\u001b[0m\n"
            ]
          },
          "metadata": {},
          "output_type": "display_data"
        },
        {
          "data": {
            "text/html": [
              "<pre style=\"white-space:pre;overflow-x:auto;line-height:normal;font-family:Menlo,'DejaVu Sans Mono',consolas,'Courier New',monospace\">┏━━━━━━━━━━━━━━━━━━━━━━━━━━━━━━━━━┳━━━━━━━━━━━━━━━━━━━━━━━━┳━━━━━━━━━━━━━━━┓\n",
              "┃<span style=\"font-weight: bold\"> Layer (type)                    </span>┃<span style=\"font-weight: bold\"> Output Shape           </span>┃<span style=\"font-weight: bold\">       Param # </span>┃\n",
              "┡━━━━━━━━━━━━━━━━━━━━━━━━━━━━━━━━━╇━━━━━━━━━━━━━━━━━━━━━━━━╇━━━━━━━━━━━━━━━┩\n",
              "│ conv2d_20 (<span style=\"color: #0087ff; text-decoration-color: #0087ff\">Conv2D</span>)              │ (<span style=\"color: #00d7ff; text-decoration-color: #00d7ff\">None</span>, <span style=\"color: #00af00; text-decoration-color: #00af00\">148</span>, <span style=\"color: #00af00; text-decoration-color: #00af00\">148</span>, <span style=\"color: #00af00; text-decoration-color: #00af00\">32</span>)   │           <span style=\"color: #00af00; text-decoration-color: #00af00\">896</span> │\n",
              "├─────────────────────────────────┼────────────────────────┼───────────────┤\n",
              "│ max_pooling2d_20 (<span style=\"color: #0087ff; text-decoration-color: #0087ff\">MaxPooling2D</span>) │ (<span style=\"color: #00d7ff; text-decoration-color: #00d7ff\">None</span>, <span style=\"color: #00af00; text-decoration-color: #00af00\">74</span>, <span style=\"color: #00af00; text-decoration-color: #00af00\">74</span>, <span style=\"color: #00af00; text-decoration-color: #00af00\">32</span>)     │             <span style=\"color: #00af00; text-decoration-color: #00af00\">0</span> │\n",
              "├─────────────────────────────────┼────────────────────────┼───────────────┤\n",
              "│ conv2d_21 (<span style=\"color: #0087ff; text-decoration-color: #0087ff\">Conv2D</span>)              │ (<span style=\"color: #00d7ff; text-decoration-color: #00d7ff\">None</span>, <span style=\"color: #00af00; text-decoration-color: #00af00\">72</span>, <span style=\"color: #00af00; text-decoration-color: #00af00\">72</span>, <span style=\"color: #00af00; text-decoration-color: #00af00\">64</span>)     │        <span style=\"color: #00af00; text-decoration-color: #00af00\">18,496</span> │\n",
              "├─────────────────────────────────┼────────────────────────┼───────────────┤\n",
              "│ max_pooling2d_21 (<span style=\"color: #0087ff; text-decoration-color: #0087ff\">MaxPooling2D</span>) │ (<span style=\"color: #00d7ff; text-decoration-color: #00d7ff\">None</span>, <span style=\"color: #00af00; text-decoration-color: #00af00\">36</span>, <span style=\"color: #00af00; text-decoration-color: #00af00\">36</span>, <span style=\"color: #00af00; text-decoration-color: #00af00\">64</span>)     │             <span style=\"color: #00af00; text-decoration-color: #00af00\">0</span> │\n",
              "├─────────────────────────────────┼────────────────────────┼───────────────┤\n",
              "│ conv2d_22 (<span style=\"color: #0087ff; text-decoration-color: #0087ff\">Conv2D</span>)              │ (<span style=\"color: #00d7ff; text-decoration-color: #00d7ff\">None</span>, <span style=\"color: #00af00; text-decoration-color: #00af00\">34</span>, <span style=\"color: #00af00; text-decoration-color: #00af00\">34</span>, <span style=\"color: #00af00; text-decoration-color: #00af00\">128</span>)    │        <span style=\"color: #00af00; text-decoration-color: #00af00\">73,856</span> │\n",
              "├─────────────────────────────────┼────────────────────────┼───────────────┤\n",
              "│ max_pooling2d_22 (<span style=\"color: #0087ff; text-decoration-color: #0087ff\">MaxPooling2D</span>) │ (<span style=\"color: #00d7ff; text-decoration-color: #00d7ff\">None</span>, <span style=\"color: #00af00; text-decoration-color: #00af00\">17</span>, <span style=\"color: #00af00; text-decoration-color: #00af00\">17</span>, <span style=\"color: #00af00; text-decoration-color: #00af00\">128</span>)    │             <span style=\"color: #00af00; text-decoration-color: #00af00\">0</span> │\n",
              "├─────────────────────────────────┼────────────────────────┼───────────────┤\n",
              "│ conv2d_23 (<span style=\"color: #0087ff; text-decoration-color: #0087ff\">Conv2D</span>)              │ (<span style=\"color: #00d7ff; text-decoration-color: #00d7ff\">None</span>, <span style=\"color: #00af00; text-decoration-color: #00af00\">15</span>, <span style=\"color: #00af00; text-decoration-color: #00af00\">15</span>, <span style=\"color: #00af00; text-decoration-color: #00af00\">128</span>)    │       <span style=\"color: #00af00; text-decoration-color: #00af00\">147,584</span> │\n",
              "├─────────────────────────────────┼────────────────────────┼───────────────┤\n",
              "│ max_pooling2d_23 (<span style=\"color: #0087ff; text-decoration-color: #0087ff\">MaxPooling2D</span>) │ (<span style=\"color: #00d7ff; text-decoration-color: #00d7ff\">None</span>, <span style=\"color: #00af00; text-decoration-color: #00af00\">7</span>, <span style=\"color: #00af00; text-decoration-color: #00af00\">7</span>, <span style=\"color: #00af00; text-decoration-color: #00af00\">128</span>)      │             <span style=\"color: #00af00; text-decoration-color: #00af00\">0</span> │\n",
              "├─────────────────────────────────┼────────────────────────┼───────────────┤\n",
              "│ flatten_5 (<span style=\"color: #0087ff; text-decoration-color: #0087ff\">Flatten</span>)             │ (<span style=\"color: #00d7ff; text-decoration-color: #00d7ff\">None</span>, <span style=\"color: #00af00; text-decoration-color: #00af00\">6272</span>)           │             <span style=\"color: #00af00; text-decoration-color: #00af00\">0</span> │\n",
              "├─────────────────────────────────┼────────────────────────┼───────────────┤\n",
              "│ dense_26 (<span style=\"color: #0087ff; text-decoration-color: #0087ff\">Dense</span>)                │ (<span style=\"color: #00d7ff; text-decoration-color: #00d7ff\">None</span>, <span style=\"color: #00af00; text-decoration-color: #00af00\">512</span>)            │     <span style=\"color: #00af00; text-decoration-color: #00af00\">3,211,776</span> │\n",
              "├─────────────────────────────────┼────────────────────────┼───────────────┤\n",
              "│ dense_27 (<span style=\"color: #0087ff; text-decoration-color: #0087ff\">Dense</span>)                │ (<span style=\"color: #00d7ff; text-decoration-color: #00d7ff\">None</span>, <span style=\"color: #00af00; text-decoration-color: #00af00\">2</span>)              │         <span style=\"color: #00af00; text-decoration-color: #00af00\">1,026</span> │\n",
              "└─────────────────────────────────┴────────────────────────┴───────────────┘\n",
              "</pre>\n"
            ],
            "text/plain": [
              "┏━━━━━━━━━━━━━━━━━━━━━━━━━━━━━━━━━┳━━━━━━━━━━━━━━━━━━━━━━━━┳━━━━━━━━━━━━━━━┓\n",
              "┃\u001b[1m \u001b[0m\u001b[1mLayer (type)                   \u001b[0m\u001b[1m \u001b[0m┃\u001b[1m \u001b[0m\u001b[1mOutput Shape          \u001b[0m\u001b[1m \u001b[0m┃\u001b[1m \u001b[0m\u001b[1m      Param #\u001b[0m\u001b[1m \u001b[0m┃\n",
              "┡━━━━━━━━━━━━━━━━━━━━━━━━━━━━━━━━━╇━━━━━━━━━━━━━━━━━━━━━━━━╇━━━━━━━━━━━━━━━┩\n",
              "│ conv2d_20 (\u001b[38;5;33mConv2D\u001b[0m)              │ (\u001b[38;5;45mNone\u001b[0m, \u001b[38;5;34m148\u001b[0m, \u001b[38;5;34m148\u001b[0m, \u001b[38;5;34m32\u001b[0m)   │           \u001b[38;5;34m896\u001b[0m │\n",
              "├─────────────────────────────────┼────────────────────────┼───────────────┤\n",
              "│ max_pooling2d_20 (\u001b[38;5;33mMaxPooling2D\u001b[0m) │ (\u001b[38;5;45mNone\u001b[0m, \u001b[38;5;34m74\u001b[0m, \u001b[38;5;34m74\u001b[0m, \u001b[38;5;34m32\u001b[0m)     │             \u001b[38;5;34m0\u001b[0m │\n",
              "├─────────────────────────────────┼────────────────────────┼───────────────┤\n",
              "│ conv2d_21 (\u001b[38;5;33mConv2D\u001b[0m)              │ (\u001b[38;5;45mNone\u001b[0m, \u001b[38;5;34m72\u001b[0m, \u001b[38;5;34m72\u001b[0m, \u001b[38;5;34m64\u001b[0m)     │        \u001b[38;5;34m18,496\u001b[0m │\n",
              "├─────────────────────────────────┼────────────────────────┼───────────────┤\n",
              "│ max_pooling2d_21 (\u001b[38;5;33mMaxPooling2D\u001b[0m) │ (\u001b[38;5;45mNone\u001b[0m, \u001b[38;5;34m36\u001b[0m, \u001b[38;5;34m36\u001b[0m, \u001b[38;5;34m64\u001b[0m)     │             \u001b[38;5;34m0\u001b[0m │\n",
              "├─────────────────────────────────┼────────────────────────┼───────────────┤\n",
              "│ conv2d_22 (\u001b[38;5;33mConv2D\u001b[0m)              │ (\u001b[38;5;45mNone\u001b[0m, \u001b[38;5;34m34\u001b[0m, \u001b[38;5;34m34\u001b[0m, \u001b[38;5;34m128\u001b[0m)    │        \u001b[38;5;34m73,856\u001b[0m │\n",
              "├─────────────────────────────────┼────────────────────────┼───────────────┤\n",
              "│ max_pooling2d_22 (\u001b[38;5;33mMaxPooling2D\u001b[0m) │ (\u001b[38;5;45mNone\u001b[0m, \u001b[38;5;34m17\u001b[0m, \u001b[38;5;34m17\u001b[0m, \u001b[38;5;34m128\u001b[0m)    │             \u001b[38;5;34m0\u001b[0m │\n",
              "├─────────────────────────────────┼────────────────────────┼───────────────┤\n",
              "│ conv2d_23 (\u001b[38;5;33mConv2D\u001b[0m)              │ (\u001b[38;5;45mNone\u001b[0m, \u001b[38;5;34m15\u001b[0m, \u001b[38;5;34m15\u001b[0m, \u001b[38;5;34m128\u001b[0m)    │       \u001b[38;5;34m147,584\u001b[0m │\n",
              "├─────────────────────────────────┼────────────────────────┼───────────────┤\n",
              "│ max_pooling2d_23 (\u001b[38;5;33mMaxPooling2D\u001b[0m) │ (\u001b[38;5;45mNone\u001b[0m, \u001b[38;5;34m7\u001b[0m, \u001b[38;5;34m7\u001b[0m, \u001b[38;5;34m128\u001b[0m)      │             \u001b[38;5;34m0\u001b[0m │\n",
              "├─────────────────────────────────┼────────────────────────┼───────────────┤\n",
              "│ flatten_5 (\u001b[38;5;33mFlatten\u001b[0m)             │ (\u001b[38;5;45mNone\u001b[0m, \u001b[38;5;34m6272\u001b[0m)           │             \u001b[38;5;34m0\u001b[0m │\n",
              "├─────────────────────────────────┼────────────────────────┼───────────────┤\n",
              "│ dense_26 (\u001b[38;5;33mDense\u001b[0m)                │ (\u001b[38;5;45mNone\u001b[0m, \u001b[38;5;34m512\u001b[0m)            │     \u001b[38;5;34m3,211,776\u001b[0m │\n",
              "├─────────────────────────────────┼────────────────────────┼───────────────┤\n",
              "│ dense_27 (\u001b[38;5;33mDense\u001b[0m)                │ (\u001b[38;5;45mNone\u001b[0m, \u001b[38;5;34m2\u001b[0m)              │         \u001b[38;5;34m1,026\u001b[0m │\n",
              "└─────────────────────────────────┴────────────────────────┴───────────────┘\n"
            ]
          },
          "metadata": {},
          "output_type": "display_data"
        },
        {
          "data": {
            "text/html": [
              "<pre style=\"white-space:pre;overflow-x:auto;line-height:normal;font-family:Menlo,'DejaVu Sans Mono',consolas,'Courier New',monospace\"><span style=\"font-weight: bold\"> Total params: </span><span style=\"color: #00af00; text-decoration-color: #00af00\">3,453,634</span> (13.17 MB)\n",
              "</pre>\n"
            ],
            "text/plain": [
              "\u001b[1m Total params: \u001b[0m\u001b[38;5;34m3,453,634\u001b[0m (13.17 MB)\n"
            ]
          },
          "metadata": {},
          "output_type": "display_data"
        },
        {
          "data": {
            "text/html": [
              "<pre style=\"white-space:pre;overflow-x:auto;line-height:normal;font-family:Menlo,'DejaVu Sans Mono',consolas,'Courier New',monospace\"><span style=\"font-weight: bold\"> Trainable params: </span><span style=\"color: #00af00; text-decoration-color: #00af00\">3,453,634</span> (13.17 MB)\n",
              "</pre>\n"
            ],
            "text/plain": [
              "\u001b[1m Trainable params: \u001b[0m\u001b[38;5;34m3,453,634\u001b[0m (13.17 MB)\n"
            ]
          },
          "metadata": {},
          "output_type": "display_data"
        },
        {
          "data": {
            "text/html": [
              "<pre style=\"white-space:pre;overflow-x:auto;line-height:normal;font-family:Menlo,'DejaVu Sans Mono',consolas,'Courier New',monospace\"><span style=\"font-weight: bold\"> Non-trainable params: </span><span style=\"color: #00af00; text-decoration-color: #00af00\">0</span> (0.00 B)\n",
              "</pre>\n"
            ],
            "text/plain": [
              "\u001b[1m Non-trainable params: \u001b[0m\u001b[38;5;34m0\u001b[0m (0.00 B)\n"
            ]
          },
          "metadata": {},
          "output_type": "display_data"
        },
        {
          "metadata": {
            "tags": null
          },
          "name": "stderr",
          "output_type": "stream",
          "text": [
            "/usr/local/lib/python3.11/dist-packages/keras/src/trainers/data_adapters/py_dataset_adapter.py:121: UserWarning: Your `PyDataset` class should call `super().__init__(**kwargs)` in its constructor. `**kwargs` can include `workers`, `use_multiprocessing`, `max_queue_size`. Do not pass these arguments to `fit()`, as they will be ignored.\n",
            "  self._warn_if_super_not_called()\n"
          ]
        },
        {
          "metadata": {
            "tags": null
          },
          "name": "stdout",
          "output_type": "stream",
          "text": [
            "Epoch 1/75\n",
            "\u001b[1m2/2\u001b[0m \u001b[32m━━━━━━━━━━━━━━━━━━━━\u001b[0m\u001b[37m\u001b[0m \u001b[1m0s\u001b[0m 4s/step - accuracy: 0.5729 - loss: 1.4576"
          ]
        },
        {
          "metadata": {
            "tags": null
          },
          "name": "stderr",
          "output_type": "stream",
          "text": [
            "/usr/local/lib/python3.11/dist-packages/keras/src/trainers/data_adapters/py_dataset_adapter.py:121: UserWarning: Your `PyDataset` class should call `super().__init__(**kwargs)` in its constructor. `**kwargs` can include `workers`, `use_multiprocessing`, `max_queue_size`. Do not pass these arguments to `fit()`, as they will be ignored.\n",
            "  self._warn_if_super_not_called()\n"
          ]
        },
        {
          "output_type": "stream",
          "name": "stdout",
          "text": [
            "\u001b[1m2/2\u001b[0m \u001b[32m━━━━━━━━━━━━━━━━━━━━\u001b[0m\u001b[37m\u001b[0m \u001b[1m13s\u001b[0m 5s/step - accuracy: 0.5667 - loss: 1.7153 - val_accuracy: 0.5294 - val_loss: 1.0205\n",
            "Epoch 2/75\n",
            "\u001b[1m2/2\u001b[0m \u001b[32m━━━━━━━━━━━━━━━━━━━━\u001b[0m\u001b[37m\u001b[0m \u001b[1m11s\u001b[0m 5s/step - accuracy: 0.5123 - loss: 0.9624 - val_accuracy: 0.4706 - val_loss: 0.8640\n",
            "Epoch 3/75\n",
            "\u001b[1m2/2\u001b[0m \u001b[32m━━━━━━━━━━━━━━━━━━━━\u001b[0m\u001b[37m\u001b[0m \u001b[1m11s\u001b[0m 6s/step - accuracy: 0.5354 - loss: 0.7338 - val_accuracy: 0.4510 - val_loss: 0.6937\n",
            "Epoch 4/75\n",
            "\u001b[1m2/2\u001b[0m \u001b[32m━━━━━━━━━━━━━━━━━━━━\u001b[0m\u001b[37m\u001b[0m \u001b[1m11s\u001b[0m 5s/step - accuracy: 0.5460 - loss: 0.6920 - val_accuracy: 0.4706 - val_loss: 0.6960\n",
            "Epoch 5/75\n",
            "\u001b[1m2/2\u001b[0m \u001b[32m━━━━━━━━━━━━━━━━━━━━\u001b[0m\u001b[37m\u001b[0m \u001b[1m10s\u001b[0m 5s/step - accuracy: 0.5454 - loss: 0.6869 - val_accuracy: 0.4706 - val_loss: 0.7021\n",
            "Epoch 6/75\n",
            "\u001b[1m2/2\u001b[0m \u001b[32m━━━━━━━━━━━━━━━━━━━━\u001b[0m\u001b[37m\u001b[0m \u001b[1m11s\u001b[0m 5s/step - accuracy: 0.4828 - loss: 0.6911 - val_accuracy: 0.4706 - val_loss: 0.7095\n",
            "Epoch 7/75\n",
            "\u001b[1m2/2\u001b[0m \u001b[32m━━━━━━━━━━━━━━━━━━━━\u001b[0m\u001b[37m\u001b[0m \u001b[1m20s\u001b[0m 6s/step - accuracy: 0.5561 - loss: 0.6808 - val_accuracy: 0.4706 - val_loss: 0.6896\n",
            "Epoch 8/75\n",
            "\u001b[1m2/2\u001b[0m \u001b[32m━━━━━━━━━━━━━━━━━━━━\u001b[0m\u001b[37m\u001b[0m \u001b[1m12s\u001b[0m 6s/step - accuracy: 0.5361 - loss: 0.6830 - val_accuracy: 0.4706 - val_loss: 0.7269\n",
            "Epoch 9/75\n",
            "\u001b[1m2/2\u001b[0m \u001b[32m━━━━━━━━━━━━━━━━━━━━\u001b[0m\u001b[37m\u001b[0m \u001b[1m11s\u001b[0m 5s/step - accuracy: 0.5526 - loss: 0.6779 - val_accuracy: 0.4706 - val_loss: 0.7051\n",
            "Epoch 10/75\n",
            "\u001b[1m2/2\u001b[0m \u001b[32m━━━━━━━━━━━━━━━━━━━━\u001b[0m\u001b[37m\u001b[0m \u001b[1m10s\u001b[0m 5s/step - accuracy: 0.5561 - loss: 0.6719 - val_accuracy: 0.5294 - val_loss: 0.6739\n",
            "Epoch 11/75\n",
            "\u001b[1m2/2\u001b[0m \u001b[32m━━━━━━━━━━━━━━━━━━━━\u001b[0m\u001b[37m\u001b[0m \u001b[1m11s\u001b[0m 5s/step - accuracy: 0.5021 - loss: 0.6881 - val_accuracy: 0.5294 - val_loss: 0.6907\n",
            "Epoch 12/75\n",
            "\u001b[1m2/2\u001b[0m \u001b[32m━━━━━━━━━━━━━━━━━━━━\u001b[0m\u001b[37m\u001b[0m \u001b[1m11s\u001b[0m 4s/step - accuracy: 0.5813 - loss: 0.6922 - val_accuracy: 0.4706 - val_loss: 0.6909\n",
            "Epoch 13/75\n",
            "\u001b[1m2/2\u001b[0m \u001b[32m━━━━━━━━━━━━━━━━━━━━\u001b[0m\u001b[37m\u001b[0m \u001b[1m11s\u001b[0m 6s/step - accuracy: 0.5495 - loss: 0.6768 - val_accuracy: 0.5686 - val_loss: 0.6731\n",
            "Epoch 14/75\n",
            "\u001b[1m2/2\u001b[0m \u001b[32m━━━━━━━━━━━━━━━━━━━━\u001b[0m\u001b[37m\u001b[0m \u001b[1m11s\u001b[0m 6s/step - accuracy: 0.6767 - loss: 0.6621 - val_accuracy: 0.4706 - val_loss: 0.8157\n",
            "Epoch 15/75\n",
            "\u001b[1m2/2\u001b[0m \u001b[32m━━━━━━━━━━━━━━━━━━━━\u001b[0m\u001b[37m\u001b[0m \u001b[1m10s\u001b[0m 5s/step - accuracy: 0.4877 - loss: 0.7484 - val_accuracy: 0.4706 - val_loss: 0.6920\n",
            "Epoch 16/75\n",
            "\u001b[1m2/2\u001b[0m \u001b[32m━━━━━━━━━━━━━━━━━━━━\u001b[0m\u001b[37m\u001b[0m \u001b[1m11s\u001b[0m 5s/step - accuracy: 0.5528 - loss: 0.6816 - val_accuracy: 0.5882 - val_loss: 0.6738\n",
            "Epoch 17/75\n",
            "\u001b[1m2/2\u001b[0m \u001b[32m━━━━━━━━━━━━━━━━━━━━\u001b[0m\u001b[37m\u001b[0m \u001b[1m11s\u001b[0m 5s/step - accuracy: 0.6955 - loss: 0.6613 - val_accuracy: 0.4706 - val_loss: 0.7601\n",
            "Epoch 18/75\n",
            "\u001b[1m2/2\u001b[0m \u001b[32m━━━━━━━━━━━━━━━━━━━━\u001b[0m\u001b[37m\u001b[0m \u001b[1m11s\u001b[0m 5s/step - accuracy: 0.5144 - loss: 0.7749 - val_accuracy: 0.4706 - val_loss: 0.6889\n",
            "Epoch 19/75\n",
            "\u001b[1m2/2\u001b[0m \u001b[32m━━━━━━━━━━━━━━━━━━━━\u001b[0m\u001b[37m\u001b[0m \u001b[1m11s\u001b[0m 6s/step - accuracy: 0.5628 - loss: 0.6736 - val_accuracy: 0.5490 - val_loss: 0.6817\n",
            "Epoch 20/75\n",
            "\u001b[1m2/2\u001b[0m \u001b[32m━━━━━━━━━━━━━━━━━━━━\u001b[0m\u001b[37m\u001b[0m \u001b[1m11s\u001b[0m 5s/step - accuracy: 0.6618 - loss: 0.6617 - val_accuracy: 0.4902 - val_loss: 0.6618\n",
            "Epoch 21/75\n",
            "\u001b[1m2/2\u001b[0m \u001b[32m━━━━━━━━━━━━━━━━━━━━\u001b[0m\u001b[37m\u001b[0m \u001b[1m10s\u001b[0m 4s/step - accuracy: 0.5929 - loss: 0.7312 - val_accuracy: 0.4706 - val_loss: 0.6920\n",
            "Epoch 22/75\n",
            "\u001b[1m2/2\u001b[0m \u001b[32m━━━━━━━━━━━━━━━━━━━━\u001b[0m\u001b[37m\u001b[0m \u001b[1m11s\u001b[0m 5s/step - accuracy: 0.5740 - loss: 0.6352 - val_accuracy: 0.5490 - val_loss: 0.6935\n",
            "Epoch 23/75\n",
            "\u001b[1m2/2\u001b[0m \u001b[32m━━━━━━━━━━━━━━━━━━━━\u001b[0m\u001b[37m\u001b[0m \u001b[1m11s\u001b[0m 4s/step - accuracy: 0.5561 - loss: 0.6875 - val_accuracy: 0.6667 - val_loss: 0.6852\n",
            "Epoch 24/75\n",
            "\u001b[1m2/2\u001b[0m \u001b[32m━━━━━━━━━━━━━━━━━━━━\u001b[0m\u001b[37m\u001b[0m \u001b[1m11s\u001b[0m 6s/step - accuracy: 0.6519 - loss: 0.6686 - val_accuracy: 0.4706 - val_loss: 0.6932\n",
            "Epoch 25/75\n",
            "\u001b[1m2/2\u001b[0m \u001b[32m━━━━━━━━━━━━━━━━━━━━\u001b[0m\u001b[37m\u001b[0m \u001b[1m11s\u001b[0m 6s/step - accuracy: 0.5587 - loss: 0.6451 - val_accuracy: 0.5882 - val_loss: 0.6852\n",
            "Epoch 26/75\n",
            "\u001b[1m2/2\u001b[0m \u001b[32m━━━━━━━━━━━━━━━━━━━━\u001b[0m\u001b[37m\u001b[0m \u001b[1m10s\u001b[0m 5s/step - accuracy: 0.6660 - loss: 0.5878 - val_accuracy: 0.6471 - val_loss: 0.6194\n",
            "Epoch 27/75\n",
            "\u001b[1m2/2\u001b[0m \u001b[32m━━━━━━━━━━━━━━━━━━━━\u001b[0m\u001b[37m\u001b[0m \u001b[1m11s\u001b[0m 5s/step - accuracy: 0.7417 - loss: 0.5443 - val_accuracy: 0.6471 - val_loss: 0.5774\n",
            "Epoch 28/75\n",
            "\u001b[1m2/2\u001b[0m \u001b[32m━━━━━━━━━━━━━━━━━━━━\u001b[0m\u001b[37m\u001b[0m \u001b[1m11s\u001b[0m 5s/step - accuracy: 0.6758 - loss: 0.6442 - val_accuracy: 0.5882 - val_loss: 0.6660\n",
            "Epoch 29/75\n",
            "\u001b[1m2/2\u001b[0m \u001b[32m━━━━━━━━━━━━━━━━━━━━\u001b[0m\u001b[37m\u001b[0m \u001b[1m11s\u001b[0m 5s/step - accuracy: 0.5359 - loss: 0.7220 - val_accuracy: 0.7059 - val_loss: 0.6837\n",
            "Epoch 30/75\n",
            "\u001b[1m2/2\u001b[0m \u001b[32m━━━━━━━━━━━━━━━━━━━━\u001b[0m\u001b[37m\u001b[0m \u001b[1m11s\u001b[0m 6s/step - accuracy: 0.6376 - loss: 0.6673 - val_accuracy: 0.6667 - val_loss: 0.6571\n",
            "Epoch 31/75\n",
            "\u001b[1m2/2\u001b[0m \u001b[32m━━━━━━━━━━━━━━━━━━━━\u001b[0m\u001b[37m\u001b[0m \u001b[1m11s\u001b[0m 6s/step - accuracy: 0.6749 - loss: 0.6305 - val_accuracy: 0.5882 - val_loss: 0.6931\n",
            "Epoch 32/75\n",
            "\u001b[1m2/2\u001b[0m \u001b[32m━━━━━━━━━━━━━━━━━━━━\u001b[0m\u001b[37m\u001b[0m \u001b[1m10s\u001b[0m 4s/step - accuracy: 0.6591 - loss: 0.6139 - val_accuracy: 0.6275 - val_loss: 0.6605\n",
            "Epoch 33/75\n",
            "\u001b[1m2/2\u001b[0m \u001b[32m━━━━━━━━━━━━━━━━━━━━\u001b[0m\u001b[37m\u001b[0m \u001b[1m12s\u001b[0m 5s/step - accuracy: 0.7823 - loss: 0.5554 - val_accuracy: 0.6275 - val_loss: 0.7063\n",
            "Epoch 34/75\n",
            "\u001b[1m2/2\u001b[0m \u001b[32m━━━━━━━━━━━━━━━━━━━━\u001b[0m\u001b[37m\u001b[0m \u001b[1m11s\u001b[0m 5s/step - accuracy: 0.7103 - loss: 0.5457 - val_accuracy: 0.4706 - val_loss: 0.8172\n",
            "Epoch 35/75\n",
            "\u001b[1m2/2\u001b[0m \u001b[32m━━━━━━━━━━━━━━━━━━━━\u001b[0m\u001b[37m\u001b[0m \u001b[1m11s\u001b[0m 5s/step - accuracy: 0.5379 - loss: 0.7157 - val_accuracy: 0.6078 - val_loss: 0.7922\n",
            "Epoch 36/75\n",
            "\u001b[1m2/2\u001b[0m \u001b[32m━━━━━━━━━━━━━━━━━━━━\u001b[0m\u001b[37m\u001b[0m \u001b[1m11s\u001b[0m 6s/step - accuracy: 0.7140 - loss: 0.6060 - val_accuracy: 0.7647 - val_loss: 0.5930\n",
            "Epoch 37/75\n",
            "\u001b[1m2/2\u001b[0m \u001b[32m━━━━━━━━━━━━━━━━━━━━\u001b[0m\u001b[37m\u001b[0m \u001b[1m20s\u001b[0m 4s/step - accuracy: 0.8528 - loss: 0.4886 - val_accuracy: 0.5098 - val_loss: 0.8754\n",
            "Epoch 38/75\n",
            "\u001b[1m2/2\u001b[0m \u001b[32m━━━━━━━━━━━━━━━━━━━━\u001b[0m\u001b[37m\u001b[0m \u001b[1m21s\u001b[0m 5s/step - accuracy: 0.6293 - loss: 0.6467 - val_accuracy: 0.4706 - val_loss: 1.2970\n",
            "Epoch 39/75\n",
            "\u001b[1m2/2\u001b[0m \u001b[32m━━━━━━━━━━━━━━━━━━━━\u001b[0m\u001b[37m\u001b[0m \u001b[1m11s\u001b[0m 6s/step - accuracy: 0.5289 - loss: 0.8888 - val_accuracy: 0.6667 - val_loss: 0.6302\n",
            "Epoch 40/75\n",
            "\u001b[1m2/2\u001b[0m \u001b[32m━━━━━━━━━━━━━━━━━━━━\u001b[0m\u001b[37m\u001b[0m \u001b[1m11s\u001b[0m 6s/step - accuracy: 0.6931 - loss: 0.5917 - val_accuracy: 0.6275 - val_loss: 0.5522\n",
            "Epoch 41/75\n",
            "\u001b[1m2/2\u001b[0m \u001b[32m━━━━━━━━━━━━━━━━━━━━\u001b[0m\u001b[37m\u001b[0m \u001b[1m10s\u001b[0m 5s/step - accuracy: 0.7905 - loss: 0.4737 - val_accuracy: 0.6667 - val_loss: 0.6192\n",
            "Epoch 42/75\n",
            "\u001b[1m2/2\u001b[0m \u001b[32m━━━━━━━━━━━━━━━━━━━━\u001b[0m\u001b[37m\u001b[0m \u001b[1m11s\u001b[0m 5s/step - accuracy: 0.8261 - loss: 0.4600 - val_accuracy: 0.7451 - val_loss: 0.5726\n",
            "Epoch 43/75\n",
            "\u001b[1m2/2\u001b[0m \u001b[32m━━━━━━━━━━━━━━━━━━━━\u001b[0m\u001b[37m\u001b[0m \u001b[1m11s\u001b[0m 4s/step - accuracy: 0.7194 - loss: 0.5319 - val_accuracy: 0.6471 - val_loss: 0.6557\n",
            "Epoch 44/75\n",
            "\u001b[1m2/2\u001b[0m \u001b[32m━━━━━━━━━━━━━━━━━━━━\u001b[0m\u001b[37m\u001b[0m \u001b[1m20s\u001b[0m 6s/step - accuracy: 0.7306 - loss: 0.5106 - val_accuracy: 0.7843 - val_loss: 0.5450\n",
            "Epoch 45/75\n",
            "\u001b[1m2/2\u001b[0m \u001b[32m━━━━━━━━━━━━━━━━━━━━\u001b[0m\u001b[37m\u001b[0m \u001b[1m11s\u001b[0m 5s/step - accuracy: 0.8359 - loss: 0.4461 - val_accuracy: 0.6078 - val_loss: 0.7012\n",
            "Epoch 46/75\n",
            "\u001b[1m2/2\u001b[0m \u001b[32m━━━━━━━━━━━━━━━━━━━━\u001b[0m\u001b[37m\u001b[0m \u001b[1m10s\u001b[0m 5s/step - accuracy: 0.7336 - loss: 0.5624 - val_accuracy: 0.6667 - val_loss: 0.6669\n",
            "Epoch 47/75\n",
            "\u001b[1m2/2\u001b[0m \u001b[32m━━━━━━━━━━━━━━━━━━━━\u001b[0m\u001b[37m\u001b[0m \u001b[1m12s\u001b[0m 5s/step - accuracy: 0.7973 - loss: 0.4742 - val_accuracy: 0.7255 - val_loss: 0.5816\n",
            "Epoch 48/75\n",
            "\u001b[1m2/2\u001b[0m \u001b[32m━━━━━━━━━━━━━━━━━━━━\u001b[0m\u001b[37m\u001b[0m \u001b[1m11s\u001b[0m 5s/step - accuracy: 0.7825 - loss: 0.4777 - val_accuracy: 0.8039 - val_loss: 0.4685\n",
            "Epoch 49/75\n",
            "\u001b[1m2/2\u001b[0m \u001b[32m━━━━━━━━━━━━━━━━━━━━\u001b[0m\u001b[37m\u001b[0m \u001b[1m11s\u001b[0m 6s/step - accuracy: 0.8293 - loss: 0.4480 - val_accuracy: 0.7059 - val_loss: 0.6609\n",
            "Epoch 50/75\n",
            "\u001b[1m2/2\u001b[0m \u001b[32m━━━━━━━━━━━━━━━━━━━━\u001b[0m\u001b[37m\u001b[0m \u001b[1m11s\u001b[0m 6s/step - accuracy: 0.6754 - loss: 0.5796 - val_accuracy: 0.8039 - val_loss: 0.5467\n",
            "Epoch 51/75\n",
            "\u001b[1m2/2\u001b[0m \u001b[32m━━━━━━━━━━━━━━━━━━━━\u001b[0m\u001b[37m\u001b[0m \u001b[1m10s\u001b[0m 5s/step - accuracy: 0.8529 - loss: 0.4368 - val_accuracy: 0.8039 - val_loss: 0.5210\n",
            "Epoch 52/75\n",
            "\u001b[1m2/2\u001b[0m \u001b[32m━━━━━━━━━━━━━━━━━━━━\u001b[0m\u001b[37m\u001b[0m \u001b[1m21s\u001b[0m 5s/step - accuracy: 0.8779 - loss: 0.3978 - val_accuracy: 0.7059 - val_loss: 0.6290\n",
            "Epoch 53/75\n",
            "\u001b[1m2/2\u001b[0m \u001b[32m━━━━━━━━━━━━━━━━━━━━\u001b[0m\u001b[37m\u001b[0m \u001b[1m11s\u001b[0m 5s/step - accuracy: 0.8566 - loss: 0.3947 - val_accuracy: 0.7647 - val_loss: 0.4951\n",
            "Epoch 54/75\n",
            "\u001b[1m2/2\u001b[0m \u001b[32m━━━━━━━━━━━━━━━━━━━━\u001b[0m\u001b[37m\u001b[0m \u001b[1m11s\u001b[0m 6s/step - accuracy: 0.7980 - loss: 0.4668 - val_accuracy: 0.8235 - val_loss: 0.4541\n",
            "Epoch 55/75\n",
            "\u001b[1m2/2\u001b[0m \u001b[32m━━━━━━━━━━━━━━━━━━━━\u001b[0m\u001b[37m\u001b[0m \u001b[1m19s\u001b[0m 4s/step - accuracy: 0.9077 - loss: 0.3055 - val_accuracy: 0.5490 - val_loss: 1.2240\n",
            "Epoch 56/75\n",
            "\u001b[1m2/2\u001b[0m \u001b[32m━━━━━━━━━━━━━━━━━━━━\u001b[0m\u001b[37m\u001b[0m \u001b[1m11s\u001b[0m 5s/step - accuracy: 0.7410 - loss: 0.6824 - val_accuracy: 0.7255 - val_loss: 0.5551\n",
            "Epoch 57/75\n",
            "\u001b[1m2/2\u001b[0m \u001b[32m━━━━━━━━━━━━━━━━━━━━\u001b[0m\u001b[37m\u001b[0m \u001b[1m11s\u001b[0m 4s/step - accuracy: 0.8565 - loss: 0.3834 - val_accuracy: 0.6863 - val_loss: 0.7853\n",
            "Epoch 58/75\n",
            "\u001b[1m2/2\u001b[0m \u001b[32m━━━━━━━━━━━━━━━━━━━━\u001b[0m\u001b[37m\u001b[0m \u001b[1m11s\u001b[0m 5s/step - accuracy: 0.7066 - loss: 0.5901 - val_accuracy: 0.7255 - val_loss: 0.5706\n",
            "Epoch 59/75\n",
            "\u001b[1m2/2\u001b[0m \u001b[32m━━━━━━━━━━━━━━━━━━━━\u001b[0m\u001b[37m\u001b[0m \u001b[1m11s\u001b[0m 6s/step - accuracy: 0.8633 - loss: 0.4497 - val_accuracy: 0.7843 - val_loss: 0.4773\n",
            "Epoch 60/75\n",
            "\u001b[1m2/2\u001b[0m \u001b[32m━━━━━━━━━━━━━━━━━━━━\u001b[0m\u001b[37m\u001b[0m \u001b[1m10s\u001b[0m 5s/step - accuracy: 0.8846 - loss: 0.2960 - val_accuracy: 0.8039 - val_loss: 0.4866\n",
            "Epoch 61/75\n",
            "\u001b[1m2/2\u001b[0m \u001b[32m━━━━━━━━━━━━━━━━━━━━\u001b[0m\u001b[37m\u001b[0m \u001b[1m10s\u001b[0m 4s/step - accuracy: 0.9145 - loss: 0.2617 - val_accuracy: 0.7059 - val_loss: 0.9012\n",
            "Epoch 62/75\n",
            "\u001b[1m2/2\u001b[0m \u001b[32m━━━━━━━━━━━━━━━━━━━━\u001b[0m\u001b[37m\u001b[0m \u001b[1m12s\u001b[0m 5s/step - accuracy: 0.7542 - loss: 0.5254 - val_accuracy: 0.7843 - val_loss: 0.4848\n",
            "Epoch 63/75\n",
            "\u001b[1m2/2\u001b[0m \u001b[32m━━━━━━━━━━━━━━━━━━━━\u001b[0m\u001b[37m\u001b[0m \u001b[1m11s\u001b[0m 4s/step - accuracy: 0.8598 - loss: 0.3713 - val_accuracy: 0.7647 - val_loss: 0.5960\n",
            "Epoch 64/75\n",
            "\u001b[1m2/2\u001b[0m \u001b[32m━━━━━━━━━━━━━━━━━━━━\u001b[0m\u001b[37m\u001b[0m \u001b[1m11s\u001b[0m 6s/step - accuracy: 0.9267 - loss: 0.2893 - val_accuracy: 0.8039 - val_loss: 0.4500\n",
            "Epoch 65/75\n",
            "\u001b[1m2/2\u001b[0m \u001b[32m━━━━━━━━━━━━━━━━━━━━\u001b[0m\u001b[37m\u001b[0m \u001b[1m11s\u001b[0m 6s/step - accuracy: 0.9300 - loss: 0.2245 - val_accuracy: 0.8235 - val_loss: 0.4601\n",
            "Epoch 66/75\n",
            "\u001b[1m2/2\u001b[0m \u001b[32m━━━━━━━━━━━━━━━━━━━━\u001b[0m\u001b[37m\u001b[0m \u001b[1m10s\u001b[0m 5s/step - accuracy: 0.9373 - loss: 0.2222 - val_accuracy: 0.7451 - val_loss: 0.6234\n",
            "Epoch 67/75\n",
            "\u001b[1m2/2\u001b[0m \u001b[32m━━━━━━━━━━━━━━━━━━━━\u001b[0m\u001b[37m\u001b[0m \u001b[1m11s\u001b[0m 5s/step - accuracy: 0.8465 - loss: 0.3198 - val_accuracy: 0.8039 - val_loss: 0.5613\n",
            "Epoch 68/75\n",
            "\u001b[1m2/2\u001b[0m \u001b[32m━━━━━━━━━━━━━━━━━━━━\u001b[0m\u001b[37m\u001b[0m \u001b[1m11s\u001b[0m 4s/step - accuracy: 0.8875 - loss: 0.2921 - val_accuracy: 0.8235 - val_loss: 0.4455\n",
            "Epoch 69/75\n",
            "\u001b[1m2/2\u001b[0m \u001b[32m━━━━━━━━━━━━━━━━━━━━\u001b[0m\u001b[37m\u001b[0m \u001b[1m11s\u001b[0m 5s/step - accuracy: 0.9126 - loss: 0.2738 - val_accuracy: 0.8235 - val_loss: 0.4267\n",
            "Epoch 70/75\n",
            "\u001b[1m2/2\u001b[0m \u001b[32m━━━━━━━━━━━━━━━━━━━━\u001b[0m\u001b[37m\u001b[0m \u001b[1m11s\u001b[0m 6s/step - accuracy: 0.8875 - loss: 0.2891 - val_accuracy: 0.7059 - val_loss: 0.8328\n",
            "Epoch 71/75\n",
            "\u001b[1m2/2\u001b[0m \u001b[32m━━━━━━━━━━━━━━━━━━━━\u001b[0m\u001b[37m\u001b[0m \u001b[1m11s\u001b[0m 6s/step - accuracy: 0.7091 - loss: 0.6285 - val_accuracy: 0.7843 - val_loss: 0.5100\n",
            "Epoch 72/75\n",
            "\u001b[1m2/2\u001b[0m \u001b[32m━━━━━━━━━━━━━━━━━━━━\u001b[0m\u001b[37m\u001b[0m \u001b[1m21s\u001b[0m 5s/step - accuracy: 0.9404 - loss: 0.2491 - val_accuracy: 0.8431 - val_loss: 0.5889\n",
            "Epoch 73/75\n",
            "\u001b[1m2/2\u001b[0m \u001b[32m━━━━━━━━━━━━━━━━━━━━\u001b[0m\u001b[37m\u001b[0m \u001b[1m11s\u001b[0m 4s/step - accuracy: 0.9318 - loss: 0.2426 - val_accuracy: 0.8235 - val_loss: 0.5295\n",
            "Epoch 74/75\n",
            "\u001b[1m2/2\u001b[0m \u001b[32m━━━━━━━━━━━━━━━━━━━━\u001b[0m\u001b[37m\u001b[0m \u001b[1m11s\u001b[0m 6s/step - accuracy: 0.9406 - loss: 0.1910 - val_accuracy: 0.7843 - val_loss: 0.5651\n",
            "Epoch 75/75\n",
            "\u001b[1m2/2\u001b[0m \u001b[32m━━━━━━━━━━━━━━━━━━━━\u001b[0m\u001b[37m\u001b[0m \u001b[1m19s\u001b[0m 5s/step - accuracy: 0.8810 - loss: 0.2289 - val_accuracy: 0.8431 - val_loss: 0.5405\n"
          ]
        }
      ]
    },
    {
      "cell_type": "markdown",
      "metadata": {
        "id": "kXl-wi9uKE_r"
      },
      "source": [
        "Ejecuta el siguiente código para obtener una gráfica con la precisión obtenida en las diferentes iteraciones del entrenamiento:"
      ]
    },
    {
      "cell_type": "markdown",
      "source": [
        "# Mejora del modelo con MobileNetV3"
      ],
      "metadata": {
        "id": "PeaKEMZ7xMQA"
      }
    },
    {
      "cell_type": "code",
      "source": [
        "# Re-create the validation generator to ensure it's fresh for evaluation\n",
        "validation_datagen = tf.keras.preprocessing.image.ImageDataGenerator(rescale = 1./255)\n",
        "\n",
        "validation_generator_eval = validation_datagen.flow_from_directory(\n",
        "\t  \"/content/validation/\",\n",
        "    batch_size=BATCH_SIZE,\n",
        "\t  target_size=(WIDTH, HEIGHT),\n",
        "    shuffle=False) # Keep shuffle=False for consistent evaluation\n",
        "\n",
        "# Evaluate the model on the validation data\n",
        "loss, accuracy = model.evaluate(validation_generator_eval)\n",
        "\n",
        "# Print the results\n",
        "print(f\"Validation Loss: {loss}\")\n",
        "print(f\"Validation Accuracy: {accuracy}\")"
      ],
      "metadata": {
        "colab": {
          "base_uri": "https://localhost:8080/"
        },
        "id": "bjwSONqlxLf6",
        "outputId": "96168c0e-9b67-416f-9508-19f30208e6e4"
      },
      "execution_count": null,
      "outputs": [
        {
          "output_type": "stream",
          "name": "stdout",
          "text": [
            "Found 51 images belonging to 2 classes.\n"
          ]
        },
        {
          "output_type": "stream",
          "name": "stderr",
          "text": [
            "/usr/local/lib/python3.11/dist-packages/keras/src/trainers/data_adapters/py_dataset_adapter.py:121: UserWarning: Your `PyDataset` class should call `super().__init__(**kwargs)` in its constructor. `**kwargs` can include `workers`, `use_multiprocessing`, `max_queue_size`. Do not pass these arguments to `fit()`, as they will be ignored.\n",
            "  self._warn_if_super_not_called()\n"
          ]
        },
        {
          "output_type": "stream",
          "name": "stdout",
          "text": [
            "\u001b[1m1/1\u001b[0m \u001b[32m━━━━━━━━━━━━━━━━━━━━\u001b[0m\u001b[37m\u001b[0m \u001b[1m1s\u001b[0m 1s/step - accuracy: 0.8431 - loss: 0.5405\n",
            "Validation Loss: 0.5405316352844238\n",
            "Validation Accuracy: 0.843137264251709\n"
          ]
        }
      ]
    },
    {
      "cell_type": "code",
      "source": [
        "#AQUI HAGO ENTRENAMIENTO DE CNN ya entrenada de MobileNet usando Transfer Learning\n",
        "\n",
        "import tensorflow as tf\n",
        "from tensorflow.keras.applications import MobileNetV3Small\n",
        "from tensorflow.keras.layers import Dense, Dropout, GlobalAveragePooling2D\n",
        "from tensorflow.keras.models import Model\n",
        "from tensorflow.keras.optimizers import Adam\n",
        "from tensorflow.keras.preprocessing.image import ImageDataGenerator\n",
        "import os\n",
        "import shutil\n",
        "from tensorflow.keras.applications.mobilenet_v3 import preprocess_input\n",
        "\n",
        "# Define los parámetros\n",
        "BATCH_SIZE = 32\n",
        "NUM_CLASSES = 2 # Asegúrate de cambiar esto si tienes un número diferente de clases\n",
        "WIDTH  = 224\n",
        "HEIGHT = 224\n",
        "\n",
        "training_datagen = ImageDataGenerator(\n",
        "    preprocessing_function=preprocess_input,\n",
        "    rotation_range=5,\n",
        "    width_shift_range=0.05,\n",
        "    height_shift_range=0.05,\n",
        "    zoom_range=0.5,\n",
        "    horizontal_flip=True,\n",
        "    shear_range=5\n",
        ")\n",
        "\n",
        "train_generator = training_datagen.flow_from_directory(\n",
        "    \"/content/training/\",\n",
        "    batch_size=BATCH_SIZE,\n",
        "    target_size=(WIDTH, HEIGHT)\n",
        ")\n",
        "\n",
        "validation_datagen = ImageDataGenerator(\n",
        "    preprocessing_function=preprocess_input\n",
        ")\n",
        "\n",
        "validation_generator = validation_datagen.flow_from_directory(\n",
        "    \"/content/validation/\",\n",
        "    batch_size=BATCH_SIZE,\n",
        "    target_size=(WIDTH, HEIGHT)\n",
        ")\n",
        "\n",
        "# Incluye top=False para no incluir la capa de clasificación final de ImageNet\n",
        "base_model = MobileNetV3Small(input_shape=(WIDTH, HEIGHT, 3), include_top=False, weights='imagenet')\n",
        "\n",
        "# Congela las capas del modelo base para no reentrenarlas\n",
        "for layer in base_model.layers:\n",
        "    layer.trainable = False\n",
        "\n",
        "# Añade capas personalizadas para tu problema de clasificación\n",
        "x = base_model.output\n",
        "x = GlobalAveragePooling2D()(x) # Capa para aplanar la salida convolucional\n",
        "x = Dense(512, activation='relu')(x) # Una capa Dense para tu problema\n",
        "predictions = Dense(NUM_CLASSES, activation='softmax')(x) # Capa de salida con el número de clases\n",
        "\n",
        "model_transfer = Model(inputs=base_model.input, outputs=predictions)\n",
        "\n",
        "model_transfer.compile(loss = 'categorical_crossentropy',\n",
        "                       optimizer=Adam(learning_rate=1e-4),\n",
        "                       metrics=['accuracy'])\n",
        "\n",
        "history_transfer = model_transfer.fit(\n",
        "    train_generator,\n",
        "    batch_size = BATCH_SIZE,\n",
        "    epochs=100,\n",
        "    validation_data = validation_generator,\n",
        "    validation_batch_size = BATCH_SIZE)"
      ],
      "metadata": {
        "colab": {
          "base_uri": "https://localhost:8080/"
        },
        "id": "3W3sth51xV6L",
        "outputId": "746dc7dc-733c-449f-e111-5dcf8b953dbf"
      },
      "execution_count": null,
      "outputs": [
        {
          "output_type": "stream",
          "name": "stdout",
          "text": [
            "Found 193 images belonging to 2 classes.\n",
            "Found 51 images belonging to 2 classes.\n"
          ]
        },
        {
          "output_type": "stream",
          "name": "stderr",
          "text": [
            "/usr/local/lib/python3.11/dist-packages/keras/src/trainers/data_adapters/py_dataset_adapter.py:121: UserWarning: Your `PyDataset` class should call `super().__init__(**kwargs)` in its constructor. `**kwargs` can include `workers`, `use_multiprocessing`, `max_queue_size`. Do not pass these arguments to `fit()`, as they will be ignored.\n",
            "  self._warn_if_super_not_called()\n"
          ]
        },
        {
          "output_type": "stream",
          "name": "stdout",
          "text": [
            "Epoch 1/100\n",
            "\u001b[1m7/7\u001b[0m \u001b[32m━━━━━━━━━━━━━━━━━━━━\u001b[0m\u001b[37m\u001b[0m \u001b[1m0s\u001b[0m 707ms/step - accuracy: 0.7758 - loss: 0.5425"
          ]
        },
        {
          "output_type": "stream",
          "name": "stderr",
          "text": [
            "/usr/local/lib/python3.11/dist-packages/keras/src/trainers/data_adapters/py_dataset_adapter.py:121: UserWarning: Your `PyDataset` class should call `super().__init__(**kwargs)` in its constructor. `**kwargs` can include `workers`, `use_multiprocessing`, `max_queue_size`. Do not pass these arguments to `fit()`, as they will be ignored.\n",
            "  self._warn_if_super_not_called()\n"
          ]
        },
        {
          "output_type": "stream",
          "name": "stdout",
          "text": [
            "\b\b\b\b\b\b\b\b\b\b\b\b\b\b\b\b\b\b\b\b\b\b\b\b\b\b\b\b\b\b\b\b\b\b\b\b\b\b\b\b\b\b\b\b\b\b\b\b\b\b\b\b\b\b\b\b\b\b\b\b\b\b\b\b\b\b\b\b\b\b\b\b\r\u001b[1m7/7\u001b[0m \u001b[32m━━━━━━━━━━━━━━━━━━━━\u001b[0m\u001b[37m\u001b[0m \u001b[1m14s\u001b[0m 1s/step - accuracy: 0.7786 - loss: 0.5390 - val_accuracy: 0.8627 - val_loss: 0.4768\n",
            "Epoch 2/100\n",
            "\u001b[1m7/7\u001b[0m \u001b[32m━━━━━━━━━━━━━━━━━━━━\u001b[0m\u001b[37m\u001b[0m \u001b[1m4s\u001b[0m 623ms/step - accuracy: 0.8560 - loss: 0.3833 - val_accuracy: 0.8824 - val_loss: 0.4065\n",
            "Epoch 3/100\n",
            "\u001b[1m7/7\u001b[0m \u001b[32m━━━━━━━━━━━━━━━━━━━━\u001b[0m\u001b[37m\u001b[0m \u001b[1m6s\u001b[0m 859ms/step - accuracy: 0.9387 - loss: 0.3042 - val_accuracy: 0.8235 - val_loss: 0.3928\n",
            "Epoch 4/100\n",
            "\u001b[1m7/7\u001b[0m \u001b[32m━━━━━━━━━━━━━━━━━━━━\u001b[0m\u001b[37m\u001b[0m \u001b[1m4s\u001b[0m 583ms/step - accuracy: 0.9379 - loss: 0.2891 - val_accuracy: 0.9020 - val_loss: 0.3420\n",
            "Epoch 5/100\n",
            "\u001b[1m7/7\u001b[0m \u001b[32m━━━━━━━━━━━━━━━━━━━━\u001b[0m\u001b[37m\u001b[0m \u001b[1m4s\u001b[0m 581ms/step - accuracy: 0.9596 - loss: 0.2227 - val_accuracy: 0.9412 - val_loss: 0.2911\n",
            "Epoch 6/100\n",
            "\u001b[1m7/7\u001b[0m \u001b[32m━━━━━━━━━━━━━━━━━━━━\u001b[0m\u001b[37m\u001b[0m \u001b[1m6s\u001b[0m 840ms/step - accuracy: 0.9668 - loss: 0.1917 - val_accuracy: 0.9412 - val_loss: 0.2648\n",
            "Epoch 7/100\n",
            "\u001b[1m7/7\u001b[0m \u001b[32m━━━━━━━━━━━━━━━━━━━━\u001b[0m\u001b[37m\u001b[0m \u001b[1m4s\u001b[0m 603ms/step - accuracy: 0.9631 - loss: 0.1834 - val_accuracy: 0.9412 - val_loss: 0.2527\n",
            "Epoch 8/100\n",
            "\u001b[1m7/7\u001b[0m \u001b[32m━━━━━━━━━━━━━━━━━━━━\u001b[0m\u001b[37m\u001b[0m \u001b[1m5s\u001b[0m 901ms/step - accuracy: 0.9713 - loss: 0.1509 - val_accuracy: 0.9608 - val_loss: 0.2335\n",
            "Epoch 9/100\n",
            "\u001b[1m7/7\u001b[0m \u001b[32m━━━━━━━━━━━━━━━━━━━━\u001b[0m\u001b[37m\u001b[0m \u001b[1m5s\u001b[0m 625ms/step - accuracy: 0.9926 - loss: 0.1481 - val_accuracy: 0.9412 - val_loss: 0.2479\n",
            "Epoch 10/100\n",
            "\u001b[1m7/7\u001b[0m \u001b[32m━━━━━━━━━━━━━━━━━━━━\u001b[0m\u001b[37m\u001b[0m \u001b[1m4s\u001b[0m 586ms/step - accuracy: 0.9890 - loss: 0.1039 - val_accuracy: 0.9412 - val_loss: 0.2514\n",
            "Epoch 11/100\n",
            "\u001b[1m7/7\u001b[0m \u001b[32m━━━━━━━━━━━━━━━━━━━━\u001b[0m\u001b[37m\u001b[0m \u001b[1m6s\u001b[0m 836ms/step - accuracy: 0.9743 - loss: 0.1183 - val_accuracy: 0.9412 - val_loss: 0.2311\n",
            "Epoch 12/100\n",
            "\u001b[1m7/7\u001b[0m \u001b[32m━━━━━━━━━━━━━━━━━━━━\u001b[0m\u001b[37m\u001b[0m \u001b[1m9s\u001b[0m 612ms/step - accuracy: 0.9733 - loss: 0.1241 - val_accuracy: 0.9412 - val_loss: 0.2408\n",
            "Epoch 13/100\n",
            "\u001b[1m7/7\u001b[0m \u001b[32m━━━━━━━━━━━━━━━━━━━━\u001b[0m\u001b[37m\u001b[0m \u001b[1m6s\u001b[0m 648ms/step - accuracy: 0.9857 - loss: 0.1099 - val_accuracy: 0.9216 - val_loss: 0.2537\n",
            "Epoch 14/100\n",
            "\u001b[1m7/7\u001b[0m \u001b[32m━━━━━━━━━━━━━━━━━━━━\u001b[0m\u001b[37m\u001b[0m \u001b[1m5s\u001b[0m 685ms/step - accuracy: 0.9657 - loss: 0.1075 - val_accuracy: 0.9412 - val_loss: 0.2254\n",
            "Epoch 15/100\n",
            "\u001b[1m7/7\u001b[0m \u001b[32m━━━━━━━━━━━━━━━━━━━━\u001b[0m\u001b[37m\u001b[0m \u001b[1m6s\u001b[0m 812ms/step - accuracy: 0.9966 - loss: 0.0908 - val_accuracy: 0.9412 - val_loss: 0.1986\n",
            "Epoch 16/100\n",
            "\u001b[1m7/7\u001b[0m \u001b[32m━━━━━━━━━━━━━━━━━━━━\u001b[0m\u001b[37m\u001b[0m \u001b[1m4s\u001b[0m 589ms/step - accuracy: 0.9987 - loss: 0.0786 - val_accuracy: 0.9412 - val_loss: 0.1889\n",
            "Epoch 17/100\n",
            "\u001b[1m7/7\u001b[0m \u001b[32m━━━━━━━━━━━━━━━━━━━━\u001b[0m\u001b[37m\u001b[0m \u001b[1m4s\u001b[0m 590ms/step - accuracy: 0.9853 - loss: 0.0790 - val_accuracy: 0.9412 - val_loss: 0.1929\n",
            "Epoch 18/100\n",
            "\u001b[1m7/7\u001b[0m \u001b[32m━━━━━━━━━━━━━━━━━━━━\u001b[0m\u001b[37m\u001b[0m \u001b[1m6s\u001b[0m 697ms/step - accuracy: 0.9930 - loss: 0.0719 - val_accuracy: 0.9412 - val_loss: 0.2061\n",
            "Epoch 19/100\n",
            "\u001b[1m7/7\u001b[0m \u001b[32m━━━━━━━━━━━━━━━━━━━━\u001b[0m\u001b[37m\u001b[0m \u001b[1m4s\u001b[0m 611ms/step - accuracy: 0.9842 - loss: 0.0857 - val_accuracy: 0.9412 - val_loss: 0.1958\n",
            "Epoch 20/100\n",
            "\u001b[1m7/7\u001b[0m \u001b[32m━━━━━━━━━━━━━━━━━━━━\u001b[0m\u001b[37m\u001b[0m \u001b[1m6s\u001b[0m 870ms/step - accuracy: 0.9881 - loss: 0.0640 - val_accuracy: 0.9412 - val_loss: 0.1869\n",
            "Epoch 21/100\n",
            "\u001b[1m7/7\u001b[0m \u001b[32m━━━━━━━━━━━━━━━━━━━━\u001b[0m\u001b[37m\u001b[0m \u001b[1m4s\u001b[0m 593ms/step - accuracy: 0.9837 - loss: 0.0609 - val_accuracy: 0.9412 - val_loss: 0.1895\n",
            "Epoch 22/100\n",
            "\u001b[1m7/7\u001b[0m \u001b[32m━━━━━━━━━━━━━━━━━━━━\u001b[0m\u001b[37m\u001b[0m \u001b[1m5s\u001b[0m 712ms/step - accuracy: 0.9900 - loss: 0.0906 - val_accuracy: 0.9608 - val_loss: 0.1636\n",
            "Epoch 23/100\n",
            "\u001b[1m7/7\u001b[0m \u001b[32m━━━━━━━━━━━━━━━━━━━━\u001b[0m\u001b[37m\u001b[0m \u001b[1m6s\u001b[0m 735ms/step - accuracy: 0.9930 - loss: 0.0647 - val_accuracy: 0.9608 - val_loss: 0.1655\n",
            "Epoch 24/100\n",
            "\u001b[1m7/7\u001b[0m \u001b[32m━━━━━━━━━━━━━━━━━━━━\u001b[0m\u001b[37m\u001b[0m \u001b[1m4s\u001b[0m 585ms/step - accuracy: 0.9875 - loss: 0.0504 - val_accuracy: 0.9412 - val_loss: 0.1845\n",
            "Epoch 25/100\n",
            "\u001b[1m7/7\u001b[0m \u001b[32m━━━━━━━━━━━━━━━━━━━━\u001b[0m\u001b[37m\u001b[0m \u001b[1m6s\u001b[0m 845ms/step - accuracy: 0.9905 - loss: 0.0500 - val_accuracy: 0.9412 - val_loss: 0.2252\n",
            "Epoch 26/100\n",
            "\u001b[1m7/7\u001b[0m \u001b[32m━━━━━━━━━━━━━━━━━━━━\u001b[0m\u001b[37m\u001b[0m \u001b[1m4s\u001b[0m 603ms/step - accuracy: 0.9722 - loss: 0.0691 - val_accuracy: 0.9020 - val_loss: 0.2619\n",
            "Epoch 27/100\n",
            "\u001b[1m7/7\u001b[0m \u001b[32m━━━━━━━━━━━━━━━━━━━━\u001b[0m\u001b[37m\u001b[0m \u001b[1m4s\u001b[0m 593ms/step - accuracy: 0.9781 - loss: 0.0691 - val_accuracy: 0.9412 - val_loss: 0.2141\n",
            "Epoch 28/100\n",
            "\u001b[1m7/7\u001b[0m \u001b[32m━━━━━━━━━━━━━━━━━━━━\u001b[0m\u001b[37m\u001b[0m \u001b[1m6s\u001b[0m 843ms/step - accuracy: 0.9987 - loss: 0.0342 - val_accuracy: 0.9412 - val_loss: 0.1743\n",
            "Epoch 29/100\n",
            "\u001b[1m7/7\u001b[0m \u001b[32m━━━━━━━━━━━━━━━━━━━━\u001b[0m\u001b[37m\u001b[0m \u001b[1m5s\u001b[0m 624ms/step - accuracy: 0.9970 - loss: 0.0508 - val_accuracy: 0.9608 - val_loss: 0.1530\n",
            "Epoch 30/100\n",
            "\u001b[1m7/7\u001b[0m \u001b[32m━━━━━━━━━━━━━━━━━━━━\u001b[0m\u001b[37m\u001b[0m \u001b[1m5s\u001b[0m 766ms/step - accuracy: 0.9866 - loss: 0.0707 - val_accuracy: 0.9608 - val_loss: 0.1588\n",
            "Epoch 31/100\n",
            "\u001b[1m7/7\u001b[0m \u001b[32m━━━━━━━━━━━━━━━━━━━━\u001b[0m\u001b[37m\u001b[0m \u001b[1m5s\u001b[0m 759ms/step - accuracy: 0.9937 - loss: 0.0486 - val_accuracy: 0.9412 - val_loss: 0.2010\n",
            "Epoch 32/100\n",
            "\u001b[1m7/7\u001b[0m \u001b[32m━━━━━━━━━━━━━━━━━━━━\u001b[0m\u001b[37m\u001b[0m \u001b[1m10s\u001b[0m 768ms/step - accuracy: 0.9947 - loss: 0.0286 - val_accuracy: 0.9216 - val_loss: 0.2240\n",
            "Epoch 33/100\n",
            "\u001b[1m7/7\u001b[0m \u001b[32m━━━━━━━━━━━━━━━━━━━━\u001b[0m\u001b[37m\u001b[0m \u001b[1m4s\u001b[0m 606ms/step - accuracy: 0.9910 - loss: 0.0512 - val_accuracy: 0.9216 - val_loss: 0.2033\n",
            "Epoch 34/100\n",
            "\u001b[1m7/7\u001b[0m \u001b[32m━━━━━━━━━━━━━━━━━━━━\u001b[0m\u001b[37m\u001b[0m \u001b[1m6s\u001b[0m 860ms/step - accuracy: 0.9843 - loss: 0.0426 - val_accuracy: 0.9412 - val_loss: 0.1906\n",
            "Epoch 35/100\n",
            "\u001b[1m7/7\u001b[0m \u001b[32m━━━━━━━━━━━━━━━━━━━━\u001b[0m\u001b[37m\u001b[0m \u001b[1m9s\u001b[0m 590ms/step - accuracy: 0.9891 - loss: 0.0452 - val_accuracy: 0.9412 - val_loss: 0.1732\n",
            "Epoch 36/100\n",
            "\u001b[1m7/7\u001b[0m \u001b[32m━━━━━━━━━━━━━━━━━━━━\u001b[0m\u001b[37m\u001b[0m \u001b[1m6s\u001b[0m 967ms/step - accuracy: 0.9937 - loss: 0.0339 - val_accuracy: 0.9412 - val_loss: 0.1723\n",
            "Epoch 37/100\n",
            "\u001b[1m7/7\u001b[0m \u001b[32m━━━━━━━━━━━━━━━━━━━━\u001b[0m\u001b[37m\u001b[0m \u001b[1m4s\u001b[0m 602ms/step - accuracy: 0.9855 - loss: 0.0381 - val_accuracy: 0.9216 - val_loss: 0.1948\n",
            "Epoch 38/100\n",
            "\u001b[1m7/7\u001b[0m \u001b[32m━━━━━━━━━━━━━━━━━━━━\u001b[0m\u001b[37m\u001b[0m \u001b[1m5s\u001b[0m 742ms/step - accuracy: 0.9973 - loss: 0.0274 - val_accuracy: 0.9216 - val_loss: 0.2136\n",
            "Epoch 39/100\n",
            "\u001b[1m7/7\u001b[0m \u001b[32m━━━━━━━━━━━━━━━━━━━━\u001b[0m\u001b[37m\u001b[0m \u001b[1m5s\u001b[0m 623ms/step - accuracy: 0.9930 - loss: 0.0374 - val_accuracy: 0.9216 - val_loss: 0.2193\n",
            "Epoch 40/100\n",
            "\u001b[1m7/7\u001b[0m \u001b[32m━━━━━━━━━━━━━━━━━━━━\u001b[0m\u001b[37m\u001b[0m \u001b[1m4s\u001b[0m 600ms/step - accuracy: 1.0000 - loss: 0.0297 - val_accuracy: 0.9216 - val_loss: 0.2157\n",
            "Epoch 41/100\n",
            "\u001b[1m7/7\u001b[0m \u001b[32m━━━━━━━━━━━━━━━━━━━━\u001b[0m\u001b[37m\u001b[0m \u001b[1m6s\u001b[0m 827ms/step - accuracy: 0.9949 - loss: 0.0379 - val_accuracy: 0.9216 - val_loss: 0.1999\n",
            "Epoch 42/100\n",
            "\u001b[1m7/7\u001b[0m \u001b[32m━━━━━━━━━━━━━━━━━━━━\u001b[0m\u001b[37m\u001b[0m \u001b[1m9s\u001b[0m 728ms/step - accuracy: 0.9987 - loss: 0.0262 - val_accuracy: 0.9216 - val_loss: 0.1867\n",
            "Epoch 43/100\n",
            "\u001b[1m7/7\u001b[0m \u001b[32m━━━━━━━━━━━━━━━━━━━━\u001b[0m\u001b[37m\u001b[0m \u001b[1m6s\u001b[0m 747ms/step - accuracy: 0.9829 - loss: 0.0398 - val_accuracy: 0.9412 - val_loss: 0.1754\n",
            "Epoch 44/100\n",
            "\u001b[1m7/7\u001b[0m \u001b[32m━━━━━━━━━━━━━━━━━━━━\u001b[0m\u001b[37m\u001b[0m \u001b[1m4s\u001b[0m 588ms/step - accuracy: 1.0000 - loss: 0.0214 - val_accuracy: 0.9216 - val_loss: 0.1895\n",
            "Epoch 45/100\n",
            "\u001b[1m7/7\u001b[0m \u001b[32m━━━━━━━━━━━━━━━━━━━━\u001b[0m\u001b[37m\u001b[0m \u001b[1m6s\u001b[0m 797ms/step - accuracy: 1.0000 - loss: 0.0231 - val_accuracy: 0.9020 - val_loss: 0.2254\n",
            "Epoch 46/100\n",
            "\u001b[1m7/7\u001b[0m \u001b[32m━━━━━━━━━━━━━━━━━━━━\u001b[0m\u001b[37m\u001b[0m \u001b[1m4s\u001b[0m 581ms/step - accuracy: 1.0000 - loss: 0.0245 - val_accuracy: 0.9020 - val_loss: 0.2467\n",
            "Epoch 47/100\n",
            "\u001b[1m7/7\u001b[0m \u001b[32m━━━━━━━━━━━━━━━━━━━━\u001b[0m\u001b[37m\u001b[0m \u001b[1m4s\u001b[0m 599ms/step - accuracy: 0.9855 - loss: 0.0297 - val_accuracy: 0.9020 - val_loss: 0.2188\n",
            "Epoch 48/100\n",
            "\u001b[1m7/7\u001b[0m \u001b[32m━━━━━━━━━━━━━━━━━━━━\u001b[0m\u001b[37m\u001b[0m \u001b[1m6s\u001b[0m 801ms/step - accuracy: 0.9970 - loss: 0.0288 - val_accuracy: 0.9216 - val_loss: 0.1917\n",
            "Epoch 49/100\n",
            "\u001b[1m7/7\u001b[0m \u001b[32m━━━━━━━━━━━━━━━━━━━━\u001b[0m\u001b[37m\u001b[0m \u001b[1m5s\u001b[0m 645ms/step - accuracy: 1.0000 - loss: 0.0219 - val_accuracy: 0.9216 - val_loss: 0.1753\n",
            "Epoch 50/100\n",
            "\u001b[1m7/7\u001b[0m \u001b[32m━━━━━━━━━━━━━━━━━━━━\u001b[0m\u001b[37m\u001b[0m \u001b[1m6s\u001b[0m 798ms/step - accuracy: 0.9888 - loss: 0.0310 - val_accuracy: 0.9608 - val_loss: 0.1631\n",
            "Epoch 51/100\n",
            "\u001b[1m7/7\u001b[0m \u001b[32m━━━━━━━━━━━━━━━━━━━━\u001b[0m\u001b[37m\u001b[0m \u001b[1m9s\u001b[0m 583ms/step - accuracy: 1.0000 - loss: 0.0230 - val_accuracy: 0.9412 - val_loss: 0.1663\n",
            "Epoch 52/100\n",
            "\u001b[1m7/7\u001b[0m \u001b[32m━━━━━━━━━━━━━━━━━━━━\u001b[0m\u001b[37m\u001b[0m \u001b[1m6s\u001b[0m 941ms/step - accuracy: 1.0000 - loss: 0.0270 - val_accuracy: 0.9608 - val_loss: 0.1620\n",
            "Epoch 53/100\n",
            "\u001b[1m7/7\u001b[0m \u001b[32m━━━━━━━━━━━━━━━━━━━━\u001b[0m\u001b[37m\u001b[0m \u001b[1m5s\u001b[0m 582ms/step - accuracy: 0.9890 - loss: 0.0292 - val_accuracy: 0.9216 - val_loss: 0.1869\n",
            "Epoch 54/100\n",
            "\u001b[1m7/7\u001b[0m \u001b[32m━━━━━━━━━━━━━━━━━━━━\u001b[0m\u001b[37m\u001b[0m \u001b[1m5s\u001b[0m 783ms/step - accuracy: 0.9937 - loss: 0.0233 - val_accuracy: 0.9020 - val_loss: 0.1964\n",
            "Epoch 55/100\n",
            "\u001b[1m7/7\u001b[0m \u001b[32m━━━━━━━━━━━━━━━━━━━━\u001b[0m\u001b[37m\u001b[0m \u001b[1m5s\u001b[0m 668ms/step - accuracy: 1.0000 - loss: 0.0173 - val_accuracy: 0.9020 - val_loss: 0.2009\n",
            "Epoch 56/100\n",
            "\u001b[1m7/7\u001b[0m \u001b[32m━━━━━━━━━━━━━━━━━━━━\u001b[0m\u001b[37m\u001b[0m \u001b[1m4s\u001b[0m 615ms/step - accuracy: 1.0000 - loss: 0.0257 - val_accuracy: 0.9216 - val_loss: 0.1917\n",
            "Epoch 57/100\n",
            "\u001b[1m7/7\u001b[0m \u001b[32m━━━━━━━━━━━━━━━━━━━━\u001b[0m\u001b[37m\u001b[0m \u001b[1m6s\u001b[0m 801ms/step - accuracy: 0.9907 - loss: 0.0300 - val_accuracy: 0.9020 - val_loss: 0.1985\n",
            "Epoch 58/100\n",
            "\u001b[1m7/7\u001b[0m \u001b[32m━━━━━━━━━━━━━━━━━━━━\u001b[0m\u001b[37m\u001b[0m \u001b[1m5s\u001b[0m 617ms/step - accuracy: 0.9971 - loss: 0.0213 - val_accuracy: 0.9020 - val_loss: 0.2061\n",
            "Epoch 59/100\n",
            "\u001b[1m7/7\u001b[0m \u001b[32m━━━━━━━━━━━━━━━━━━━━\u001b[0m\u001b[37m\u001b[0m \u001b[1m4s\u001b[0m 724ms/step - accuracy: 1.0000 - loss: 0.0144 - val_accuracy: 0.9020 - val_loss: 0.2004\n",
            "Epoch 60/100\n",
            "\u001b[1m7/7\u001b[0m \u001b[32m━━━━━━━━━━━━━━━━━━━━\u001b[0m\u001b[37m\u001b[0m \u001b[1m6s\u001b[0m 765ms/step - accuracy: 1.0000 - loss: 0.0141 - val_accuracy: 0.9020 - val_loss: 0.2095\n",
            "Epoch 61/100\n",
            "\u001b[1m7/7\u001b[0m \u001b[32m━━━━━━━━━━━━━━━━━━━━\u001b[0m\u001b[37m\u001b[0m \u001b[1m4s\u001b[0m 597ms/step - accuracy: 0.9930 - loss: 0.0311 - val_accuracy: 0.9020 - val_loss: 0.2200\n",
            "Epoch 62/100\n",
            "\u001b[1m7/7\u001b[0m \u001b[32m━━━━━━━━━━━━━━━━━━━━\u001b[0m\u001b[37m\u001b[0m \u001b[1m6s\u001b[0m 786ms/step - accuracy: 0.9971 - loss: 0.0212 - val_accuracy: 0.9020 - val_loss: 0.2291\n",
            "Epoch 63/100\n",
            "\u001b[1m7/7\u001b[0m \u001b[32m━━━━━━━━━━━━━━━━━━━━\u001b[0m\u001b[37m\u001b[0m \u001b[1m5s\u001b[0m 640ms/step - accuracy: 1.0000 - loss: 0.0135 - val_accuracy: 0.9020 - val_loss: 0.2356\n",
            "Epoch 64/100\n",
            "\u001b[1m7/7\u001b[0m \u001b[32m━━━━━━━━━━━━━━━━━━━━\u001b[0m\u001b[37m\u001b[0m \u001b[1m5s\u001b[0m 624ms/step - accuracy: 1.0000 - loss: 0.0208 - val_accuracy: 0.9020 - val_loss: 0.2383\n",
            "Epoch 65/100\n",
            "\u001b[1m7/7\u001b[0m \u001b[32m━━━━━━━━━━━━━━━━━━━━\u001b[0m\u001b[37m\u001b[0m \u001b[1m6s\u001b[0m 844ms/step - accuracy: 0.9861 - loss: 0.0319 - val_accuracy: 0.9020 - val_loss: 0.2104\n",
            "Epoch 66/100\n",
            "\u001b[1m7/7\u001b[0m \u001b[32m━━━━━━━━━━━━━━━━━━━━\u001b[0m\u001b[37m\u001b[0m \u001b[1m4s\u001b[0m 720ms/step - accuracy: 0.9979 - loss: 0.0122 - val_accuracy: 0.9020 - val_loss: 0.2090\n",
            "Epoch 67/100\n",
            "\u001b[1m7/7\u001b[0m \u001b[32m━━━━━━━━━━━━━━━━━━━━\u001b[0m\u001b[37m\u001b[0m \u001b[1m5s\u001b[0m 868ms/step - accuracy: 1.0000 - loss: 0.0144 - val_accuracy: 0.9020 - val_loss: 0.1974\n",
            "Epoch 68/100\n",
            "\u001b[1m7/7\u001b[0m \u001b[32m━━━━━━━━━━━━━━━━━━━━\u001b[0m\u001b[37m\u001b[0m \u001b[1m5s\u001b[0m 601ms/step - accuracy: 0.9930 - loss: 0.0212 - val_accuracy: 0.9020 - val_loss: 0.1916\n",
            "Epoch 69/100\n",
            "\u001b[1m7/7\u001b[0m \u001b[32m━━━━━━━━━━━━━━━━━━━━\u001b[0m\u001b[37m\u001b[0m \u001b[1m4s\u001b[0m 730ms/step - accuracy: 0.9970 - loss: 0.0116 - val_accuracy: 0.9020 - val_loss: 0.1927\n",
            "Epoch 70/100\n",
            "\u001b[1m7/7\u001b[0m \u001b[32m━━━━━━━━━━━━━━━━━━━━\u001b[0m\u001b[37m\u001b[0m \u001b[1m6s\u001b[0m 826ms/step - accuracy: 1.0000 - loss: 0.0103 - val_accuracy: 0.9020 - val_loss: 0.2117\n",
            "Epoch 71/100\n",
            "\u001b[1m7/7\u001b[0m \u001b[32m━━━━━━━━━━━━━━━━━━━━\u001b[0m\u001b[37m\u001b[0m \u001b[1m4s\u001b[0m 719ms/step - accuracy: 1.0000 - loss: 0.0100 - val_accuracy: 0.9020 - val_loss: 0.2242\n",
            "Epoch 72/100\n",
            "\u001b[1m7/7\u001b[0m \u001b[32m━━━━━━━━━━━━━━━━━━━━\u001b[0m\u001b[37m\u001b[0m \u001b[1m4s\u001b[0m 727ms/step - accuracy: 1.0000 - loss: 0.0121 - val_accuracy: 0.9020 - val_loss: 0.2295\n",
            "Epoch 73/100\n",
            "\u001b[1m7/7\u001b[0m \u001b[32m━━━━━━━━━━━━━━━━━━━━\u001b[0m\u001b[37m\u001b[0m \u001b[1m6s\u001b[0m 729ms/step - accuracy: 1.0000 - loss: 0.0124 - val_accuracy: 0.9020 - val_loss: 0.2155\n",
            "Epoch 74/100\n",
            "\u001b[1m7/7\u001b[0m \u001b[32m━━━━━━━━━━━━━━━━━━━━\u001b[0m\u001b[37m\u001b[0m \u001b[1m4s\u001b[0m 584ms/step - accuracy: 0.9987 - loss: 0.0106 - val_accuracy: 0.9020 - val_loss: 0.2018\n",
            "Epoch 75/100\n",
            "\u001b[1m7/7\u001b[0m \u001b[32m━━━━━━━━━━━━━━━━━━━━\u001b[0m\u001b[37m\u001b[0m \u001b[1m6s\u001b[0m 800ms/step - accuracy: 0.9966 - loss: 0.0157 - val_accuracy: 0.9216 - val_loss: 0.1796\n",
            "Epoch 76/100\n",
            "\u001b[1m7/7\u001b[0m \u001b[32m━━━━━━━━━━━━━━━━━━━━\u001b[0m\u001b[37m\u001b[0m \u001b[1m9s\u001b[0m 599ms/step - accuracy: 0.9891 - loss: 0.0297 - val_accuracy: 0.9216 - val_loss: 0.1745\n",
            "Epoch 77/100\n",
            "\u001b[1m7/7\u001b[0m \u001b[32m━━━━━━━━━━━━━━━━━━━━\u001b[0m\u001b[37m\u001b[0m \u001b[1m6s\u001b[0m 806ms/step - accuracy: 1.0000 - loss: 0.0104 - val_accuracy: 0.9608 - val_loss: 0.1592\n",
            "Epoch 78/100\n",
            "\u001b[1m7/7\u001b[0m \u001b[32m━━━━━━━━━━━━━━━━━━━━\u001b[0m\u001b[37m\u001b[0m \u001b[1m4s\u001b[0m 587ms/step - accuracy: 0.9885 - loss: 0.0202 - val_accuracy: 0.9608 - val_loss: 0.1498\n",
            "Epoch 79/100\n",
            "\u001b[1m7/7\u001b[0m \u001b[32m━━━━━━━━━━━━━━━━━━━━\u001b[0m\u001b[37m\u001b[0m \u001b[1m5s\u001b[0m 645ms/step - accuracy: 1.0000 - loss: 0.0134 - val_accuracy: 0.9216 - val_loss: 0.1802\n",
            "Epoch 80/100\n",
            "\u001b[1m7/7\u001b[0m \u001b[32m━━━━━━━━━━━━━━━━━━━━\u001b[0m\u001b[37m\u001b[0m \u001b[1m5s\u001b[0m 643ms/step - accuracy: 0.9937 - loss: 0.0226 - val_accuracy: 0.8824 - val_loss: 0.3077\n",
            "Epoch 81/100\n",
            "\u001b[1m7/7\u001b[0m \u001b[32m━━━━━━━━━━━━━━━━━━━━\u001b[0m\u001b[37m\u001b[0m \u001b[1m4s\u001b[0m 626ms/step - accuracy: 1.0000 - loss: 0.0132 - val_accuracy: 0.8627 - val_loss: 0.3241\n",
            "Epoch 82/100\n",
            "\u001b[1m7/7\u001b[0m \u001b[32m━━━━━━━━━━━━━━━━━━━━\u001b[0m\u001b[37m\u001b[0m \u001b[1m6s\u001b[0m 812ms/step - accuracy: 1.0000 - loss: 0.0144 - val_accuracy: 0.9020 - val_loss: 0.2599\n",
            "Epoch 83/100\n",
            "\u001b[1m7/7\u001b[0m \u001b[32m━━━━━━━━━━━━━━━━━━━━\u001b[0m\u001b[37m\u001b[0m \u001b[1m4s\u001b[0m 592ms/step - accuracy: 0.9819 - loss: 0.0372 - val_accuracy: 0.9216 - val_loss: 0.1903\n",
            "Epoch 84/100\n",
            "\u001b[1m7/7\u001b[0m \u001b[32m━━━━━━━━━━━━━━━━━━━━\u001b[0m\u001b[37m\u001b[0m \u001b[1m4s\u001b[0m 595ms/step - accuracy: 1.0000 - loss: 0.0098 - val_accuracy: 0.9216 - val_loss: 0.1755\n",
            "Epoch 85/100\n",
            "\u001b[1m7/7\u001b[0m \u001b[32m━━━━━━━━━━━━━━━━━━━━\u001b[0m\u001b[37m\u001b[0m \u001b[1m6s\u001b[0m 806ms/step - accuracy: 1.0000 - loss: 0.0133 - val_accuracy: 0.9216 - val_loss: 0.1826\n",
            "Epoch 86/100\n",
            "\u001b[1m7/7\u001b[0m \u001b[32m━━━━━━━━━━━━━━━━━━━━\u001b[0m\u001b[37m\u001b[0m \u001b[1m4s\u001b[0m 596ms/step - accuracy: 1.0000 - loss: 0.0088 - val_accuracy: 0.9216 - val_loss: 0.1932\n",
            "Epoch 87/100\n",
            "\u001b[1m7/7\u001b[0m \u001b[32m━━━━━━━━━━━━━━━━━━━━\u001b[0m\u001b[37m\u001b[0m \u001b[1m6s\u001b[0m 793ms/step - accuracy: 1.0000 - loss: 0.0111 - val_accuracy: 0.9020 - val_loss: 0.2221\n",
            "Epoch 88/100\n",
            "\u001b[1m7/7\u001b[0m \u001b[32m━━━━━━━━━━━━━━━━━━━━\u001b[0m\u001b[37m\u001b[0m \u001b[1m5s\u001b[0m 619ms/step - accuracy: 1.0000 - loss: 0.0102 - val_accuracy: 0.9020 - val_loss: 0.2521\n",
            "Epoch 89/100\n",
            "\u001b[1m7/7\u001b[0m \u001b[32m━━━━━━━━━━━━━━━━━━━━\u001b[0m\u001b[37m\u001b[0m \u001b[1m4s\u001b[0m 588ms/step - accuracy: 1.0000 - loss: 0.0090 - val_accuracy: 0.9020 - val_loss: 0.2542\n",
            "Epoch 90/100\n",
            "\u001b[1m7/7\u001b[0m \u001b[32m━━━━━━━━━━━━━━━━━━━━\u001b[0m\u001b[37m\u001b[0m \u001b[1m6s\u001b[0m 814ms/step - accuracy: 1.0000 - loss: 0.0110 - val_accuracy: 0.9020 - val_loss: 0.2345\n",
            "Epoch 91/100\n",
            "\u001b[1m7/7\u001b[0m \u001b[32m━━━━━━━━━━━━━━━━━━━━\u001b[0m\u001b[37m\u001b[0m \u001b[1m4s\u001b[0m 611ms/step - accuracy: 1.0000 - loss: 0.0104 - val_accuracy: 0.9020 - val_loss: 0.2217\n",
            "Epoch 92/100\n",
            "\u001b[1m7/7\u001b[0m \u001b[32m━━━━━━━━━━━━━━━━━━━━\u001b[0m\u001b[37m\u001b[0m \u001b[1m5s\u001b[0m 614ms/step - accuracy: 1.0000 - loss: 0.0079 - val_accuracy: 0.9020 - val_loss: 0.2107\n",
            "Epoch 93/100\n",
            "\u001b[1m7/7\u001b[0m \u001b[32m━━━━━━━━━━━━━━━━━━━━\u001b[0m\u001b[37m\u001b[0m \u001b[1m6s\u001b[0m 708ms/step - accuracy: 1.0000 - loss: 0.0054 - val_accuracy: 0.9020 - val_loss: 0.2074\n",
            "Epoch 94/100\n",
            "\u001b[1m7/7\u001b[0m \u001b[32m━━━━━━━━━━━━━━━━━━━━\u001b[0m\u001b[37m\u001b[0m \u001b[1m4s\u001b[0m 589ms/step - accuracy: 1.0000 - loss: 0.0091 - val_accuracy: 0.9216 - val_loss: 0.1933\n",
            "Epoch 95/100\n",
            "\u001b[1m7/7\u001b[0m \u001b[32m━━━━━━━━━━━━━━━━━━━━\u001b[0m\u001b[37m\u001b[0m \u001b[1m6s\u001b[0m 813ms/step - accuracy: 1.0000 - loss: 0.0104 - val_accuracy: 0.9216 - val_loss: 0.1940\n",
            "Epoch 96/100\n",
            "\u001b[1m7/7\u001b[0m \u001b[32m━━━━━━━━━━━━━━━━━━━━\u001b[0m\u001b[37m\u001b[0m \u001b[1m5s\u001b[0m 751ms/step - accuracy: 1.0000 - loss: 0.0080 - val_accuracy: 0.9216 - val_loss: 0.1914\n",
            "Epoch 97/100\n",
            "\u001b[1m7/7\u001b[0m \u001b[32m━━━━━━━━━━━━━━━━━━━━\u001b[0m\u001b[37m\u001b[0m \u001b[1m4s\u001b[0m 605ms/step - accuracy: 1.0000 - loss: 0.0077 - val_accuracy: 0.9020 - val_loss: 0.2144\n",
            "Epoch 98/100\n",
            "\u001b[1m7/7\u001b[0m \u001b[32m━━━━━━━━━━━━━━━━━━━━\u001b[0m\u001b[37m\u001b[0m \u001b[1m6s\u001b[0m 847ms/step - accuracy: 1.0000 - loss: 0.0072 - val_accuracy: 0.9020 - val_loss: 0.2624\n",
            "Epoch 99/100\n",
            "\u001b[1m7/7\u001b[0m \u001b[32m━━━━━━━━━━━━━━━━━━━━\u001b[0m\u001b[37m\u001b[0m \u001b[1m4s\u001b[0m 582ms/step - accuracy: 0.9888 - loss: 0.0347 - val_accuracy: 0.9020 - val_loss: 0.2357\n",
            "Epoch 100/100\n",
            "\u001b[1m7/7\u001b[0m \u001b[32m━━━━━━━━━━━━━━━━━━━━\u001b[0m\u001b[37m\u001b[0m \u001b[1m5s\u001b[0m 717ms/step - accuracy: 0.9937 - loss: 0.0115 - val_accuracy: 0.9020 - val_loss: 0.2216\n"
          ]
        }
      ]
    },
    {
      "cell_type": "code",
      "source": [
        "# Re-create the validation generator with correct preprocessing\n",
        "validation_datagen = tf.keras.preprocessing.image.ImageDataGenerator(\n",
        "    preprocessing_function=preprocess_input  # ✅ Must match training\n",
        ")\n",
        "\n",
        "validation_generator_eval = validation_datagen.flow_from_directory(\n",
        "\t  \"/content/validation/\",\n",
        "    batch_size=BATCH_SIZE,\n",
        "\t  target_size=(WIDTH, HEIGHT),\n",
        "    shuffle=False) # Keep shuffle=False for consistent evaluation\n",
        "\n",
        "# Evaluate the model on the validation data\n",
        "loss, accuracy = model_transfer.evaluate(validation_generator_eval)\n",
        "\n",
        "# Print the results\n",
        "print(f\"Validation Loss: {loss}\")\n",
        "print(f\"Validation Accuracy: {accuracy}\")"
      ],
      "metadata": {
        "colab": {
          "base_uri": "https://localhost:8080/"
        },
        "id": "sPbm9vlfxcNL",
        "outputId": "ac38f708-b10b-445a-9db3-95547123c3e3"
      },
      "execution_count": null,
      "outputs": [
        {
          "output_type": "stream",
          "name": "stdout",
          "text": [
            "Found 51 images belonging to 2 classes.\n"
          ]
        },
        {
          "output_type": "stream",
          "name": "stderr",
          "text": [
            "/usr/local/lib/python3.11/dist-packages/keras/src/trainers/data_adapters/py_dataset_adapter.py:121: UserWarning: Your `PyDataset` class should call `super().__init__(**kwargs)` in its constructor. `**kwargs` can include `workers`, `use_multiprocessing`, `max_queue_size`. Do not pass these arguments to `fit()`, as they will be ignored.\n",
            "  self._warn_if_super_not_called()\n"
          ]
        },
        {
          "output_type": "stream",
          "name": "stdout",
          "text": [
            "\u001b[1m2/2\u001b[0m \u001b[32m━━━━━━━━━━━━━━━━━━━━\u001b[0m\u001b[37m\u001b[0m \u001b[1m1s\u001b[0m 250ms/step - accuracy: 0.8826 - loss: 0.2609\n",
            "Validation Loss: 0.22157585620880127\n",
            "Validation Accuracy: 0.9019607901573181\n"
          ]
        }
      ]
    },
    {
      "cell_type": "code",
      "metadata": {
        "colab": {
          "base_uri": "https://localhost:8080/",
          "height": 469
        },
        "id": "A4tsDqe3Z_qs",
        "outputId": "4757005d-be8e-4856-f21a-1bea4f7c7a49"
      },
      "source": [
        "#@title Doble clic para mostrar código. { display-mode: \"form\" }\n",
        "\n",
        "import matplotlib.pyplot as plt\n",
        "\n",
        "def show_accuracy(history):\n",
        "  acc = history.history['accuracy']\n",
        "  val_acc = history.history['val_accuracy']\n",
        "  #loss = history.history['loss']\n",
        "  #val_loss = history.history['val_loss']\n",
        "  epochs = range(len(acc))\n",
        "  plt.plot(epochs, acc, 'r', label='Training accuracy')\n",
        "  plt.plot(epochs, val_acc, 'b', label='Validation accuracy')\n",
        "  plt.title('Training and validation accuracy')\n",
        "  plt.legend(loc=0)\n",
        "  plt.figure()\n",
        "  plt.show()\n",
        "\n",
        "show_accuracy(history_transfer) # Changed to use history_transfer"
      ],
      "execution_count": null,
      "outputs": [
        {
          "output_type": "display_data",
          "data": {
            "text/plain": [
              "<Figure size 640x480 with 1 Axes>"
            ],
            "image/png": "[encoded data removed]"
          },
          "metadata": {}
        },
        {
          "output_type": "display_data",
          "data": {
            "text/plain": [
              "<Figure size 640x480 with 0 Axes>"
            ]
          },
          "metadata": {}
        }
      ]
    },
    {
      "cell_type": "markdown",
      "metadata": {
        "id": "GDYxb-jxsrOQ"
      },
      "source": [
        "# La Matriz de Confusión\n",
        "\n",
        "Permite visualiza cuantos ejemplos son correctamente clasificados y en el caso que sean incorrectamente clasificados, con que clase se confunden."
      ]
    },
    {
      "cell_type": "code",
      "metadata": {
        "id": "uP_Nv-_x8U8F",
        "colab": {
          "base_uri": "https://localhost:8080/",
          "height": 523
        },
        "outputId": "68912fcb-13eb-46e8-cea0-7ba511019732"
      },
      "source": [
        "from collections import Counter\n",
        "from sklearn.metrics import confusion_matrix\n",
        "import itertools\n",
        "import numpy as np\n",
        "\n",
        "def plot_confusion_matrix(cm, classes_map,\n",
        "                          normalize=False,\n",
        "                          title='Matriz de Confusión',\n",
        "                          cmap=plt.cm.Blues):\n",
        "    \"\"\"\n",
        "    Esta función visualiza la matriz de confusión.\n",
        "    Usa el parámetro `normalize=True` para normalizar los resultados.\n",
        "    Note, this code is taken straight from the SKLEARN website, an nice way of viewing confusion matrix.\n",
        "    \"\"\"\n",
        "    plt.imshow(cm, interpolation='nearest', cmap=cmap)\n",
        "    plt.title(title)\n",
        "    plt.colorbar()\n",
        "    tick_marks = np.arange(len(classes_map))\n",
        "    inv_map = {v: k for k, v in classes_map.items()}\n",
        "    labels = inv_map.values()\n",
        "    plt.xticks(tick_marks, labels, rotation=45)\n",
        "    plt.yticks(tick_marks, labels)\n",
        "    if normalize:\n",
        "        cm = np.around(cm.astype('float') / cm.sum(axis=1)[:, np.newaxis], 2)\n",
        "    thresh = cm.max() / 2.\n",
        "    for i, j in itertools.product(range(cm.shape[0]), range(cm.shape[1])):\n",
        "        plt.text(j, i, cm[i, j],\n",
        "                 horizontalalignment=\"center\",\n",
        "                 color=\"white\" if cm[i, j] > thresh else \"black\")\n",
        "    plt.tight_layout()\n",
        "    plt.ylabel('Clase real')\n",
        "    plt.xlabel('Clase predicha')\n",
        "\n",
        "\"\"\"\n",
        "Obtener la matriz de confusión de un corpus creado desde un ImageDataGenerator\n",
        "es algo más complejo que el último ejemplo estudiado. El problema está en que las\n",
        "muestras son extraidas por lotes (bath) y la función\n",
        "confusion_matrix(validation_classes, y_pred) espera que sus dos parámetros sean\n",
        "vectores. Para resolverlo recorremos todos los lotes el generador y vamos\n",
        "concatenando los vectores adecuados.\n",
        "Otra solución alternativa en:\n",
        "https://stackoverflow.com/questions/47907061/how-to-get-confusion-matrix-when-using-model-fit-generator\n",
        "\"\"\"\n",
        "validation_classes = []\n",
        "validation_images = []\n",
        "for i in range( -(-validation_generator.samples // validation_generator.batch_size)):  # número de veces que podemos sacar batch redondeado hacia arriba\n",
        "   batch = next(validation_generator)\n",
        "   expected = np.argmax(batch[1], axis=1)\n",
        "   validation_classes.extend(expected)\n",
        "   validation_images.extend(batch[0])\n",
        "validation_classes = np.array(validation_classes)\n",
        "validation_images = np.array(validation_images)\n",
        "Y_pred = model_transfer.predict(validation_images) # Changed model to model_transfer\n",
        "y_pred = np.argmax(Y_pred, axis=1)\n",
        "my_confussion = confusion_matrix(validation_classes, y_pred)\n",
        "plot_confusion_matrix(my_confussion, classes_map = validation_generator.class_indices)#, normalize=True)"
      ],
      "execution_count": null,
      "outputs": [
        {
          "output_type": "stream",
          "name": "stdout",
          "text": [
            "\u001b[1m2/2\u001b[0m \u001b[32m━━━━━━━━━━━━━━━━━━━━\u001b[0m\u001b[37m\u001b[0m \u001b[1m3s\u001b[0m 2s/step\n"
          ]
        },
        {
          "output_type": "display_data",
          "data": {
            "text/plain": [
              "<Figure size 640x480 with 2 Axes>"
            ],
            "image/png": "[encoded data removed]"
          },
          "metadata": {}
        }
      ]
    },
    {
      "cell_type": "markdown",
      "source": [
        "# Guardado y testeo del modelo"
      ],
      "metadata": {
        "id": "UmsCFU6TKrCv"
      }
    },
    {
      "cell_type": "code",
      "metadata": {
        "id": "36570a08"
      },
      "source": [
        "# Save the model in .keras format\n",
        "model_transfer.save('my_image_classification_model.keras')"
      ],
      "execution_count": null,
      "outputs": []
    },
    {
      "cell_type": "code",
      "source": [
        "import tensorflow as tf\n",
        "import numpy as np\n",
        "from tensorflow.keras.applications.mobilenet_v3 import preprocess_input\n",
        "from tensorflow.keras.preprocessing import image\n",
        "from tensorflow.keras.models import load_model\n",
        "\n",
        "# Cargar el modelo entrenado\n",
        "model = load_model('my_image_classification_model.keras')\n",
        "\n",
        "# Ruta a la imagen\n",
        "img_path = 'validation/infected/43_0.jpg'\n",
        "\n",
        "# Parámetros del modelo\n",
        "IMG_SIZE = 224\n",
        "\n",
        "# Cargar y preprocesar imagen\n",
        "img = image.load_img(img_path, target_size=(IMG_SIZE, IMG_SIZE))\n",
        "img_array = image.img_to_array(img)  # convierte a array numpy (H,W,C)\n",
        "img_array = np.expand_dims(img_array, axis=0)  # añade dimensión batch\n",
        "img_array = preprocess_input(img_array)  # normaliza como MobileNetV3 espera\n",
        "\n",
        "# Hacer predicción\n",
        "predictions = model.predict(img_array)\n",
        "predicted_class = np.argmax(predictions, axis=1)\n",
        "\n",
        "# Mostrar resultados\n",
        "print(\"Predicciones:\", predictions)\n",
        "print(\"Clase predicha:\", predicted_class)"
      ],
      "metadata": {
        "colab": {
          "base_uri": "https://localhost:8080/"
        },
        "id": "9Zl7hjQSvq0g",
        "outputId": "c046b0c6-d0cb-49db-a104-e40c35a3e5e6"
      },
      "execution_count": null,
      "outputs": [
        {
          "output_type": "stream",
          "name": "stderr",
          "text": [
            "/usr/local/lib/python3.11/dist-packages/keras/src/saving/saving_lib.py:757: UserWarning: Skipping variable loading for optimizer 'rmsprop', because it has 6 variables whereas the saved optimizer has 10 variables. \n",
            "  saveable.load_own_variables(weights_store.get(inner_path))\n"
          ]
        },
        {
          "output_type": "stream",
          "name": "stdout",
          "text": [
            "\u001b[1m1/1\u001b[0m \u001b[32m━━━━━━━━━━━━━━━━━━━━\u001b[0m\u001b[37m\u001b[0m \u001b[1m2s\u001b[0m 2s/step\n",
            "Predicciones: [[0.95359194 0.04640812]]\n",
            "Clase predicha: [0]\n"
          ]
        }
      ]
    },
    {
      "cell_type": "markdown",
      "source": [
        "## LA CLASE 0 ES INFECTED.\n",
        "\n",
        "# AHORA DEBAJO PRUEBO CON IMAGENES NUNCA VISTAS QUE NO ESTAN EN EL DATASET"
      ],
      "metadata": {
        "id": "kIGa4mfrWRY8"
      }
    },
    {
      "cell_type": "code",
      "metadata": {
        "id": "dcf5dbdb",
        "outputId": "1e2894c1-225f-472a-eab0-2d7eb4e85b1d",
        "colab": {
          "base_uri": "https://localhost:8080/"
        }
      },
      "source": [
        "import numpy as np\n",
        "from tensorflow.keras.preprocessing import image\n",
        "from tensorflow.keras.models import load_model\n",
        "from tensorflow.keras.applications.mobilenet_v3 import preprocess_input\n",
        "import os\n",
        "\n",
        "# Load the trained model (using .keras format is recommended)\n",
        "# Make sure 'my_image_classification_model.keras' exists, or change the filename\n",
        "try:\n",
        "    model = load_model('my_image_classification_model.keras')\n",
        "except Exception as e:\n",
        "    print(f\"Error loading model: {e}\")\n",
        "    print(\"Attempting to load from .h5 (legacy format)...\")\n",
        "    try:\n",
        "        # This might still fail depending on the Keras version and model complexity\n",
        "        model = load_model('my_image_classification_model.h5')\n",
        "    except Exception as e_h5:\n",
        "        print(f\"Error loading model from .h5: {e_h5}\")\n",
        "        model = None\n",
        "        print(\"Could not load the model. Please ensure 'my_image_classification_model.keras' or 'my_image_classification_model.h5' exists and is compatible.\")\n",
        "\n",
        "\n",
        "# Parámetros del modelo\n",
        "IMG_SIZE = 224 # Ensure this matches the training size\n",
        "\n",
        "def predict_image_list(image_paths, model, img_size):\n",
        "    if model is None:\n",
        "        print(\"Model not loaded. Cannot make predictions.\")\n",
        "        return\n",
        "\n",
        "    images = []\n",
        "    processed_image_paths = [] # Keep track of successfully processed paths\n",
        "\n",
        "    for img_path in image_paths:\n",
        "        if not os.path.exists(img_path):\n",
        "            print(f\"Warning: Image not found at path: {img_path}. Skipping.\")\n",
        "            continue\n",
        "\n",
        "        try:\n",
        "            # Load and resize the image\n",
        "            img = image.load_img(img_path, target_size=(img_size, img_size))\n",
        "            # Convert to numpy array\n",
        "            img_array = image.img_to_array(img)\n",
        "            # Add batch dimension\n",
        "            img_array = np.expand_dims(img_array, axis=0)\n",
        "            # Apply the same preprocessing as training\n",
        "            img_array = preprocess_input(img_array)\n",
        "\n",
        "            images.append(img_array)\n",
        "            processed_image_paths.append(img_path)\n",
        "\n",
        "        except Exception as e:\n",
        "            print(f\"Error processing image {img_path}: {e}. Skipping.\")\n",
        "            continue\n",
        "\n",
        "    if not images:\n",
        "        print(\"No valid images were processed.\")\n",
        "        return\n",
        "\n",
        "    # Concatenate all processed images into a single batch\n",
        "    images_batch = np.vstack(images)\n",
        "\n",
        "    # Make predictions for the entire batch\n",
        "    predictions = model.predict(images_batch)\n",
        "\n",
        "    # Get class indices mapping from the validation generator if available\n",
        "    # Assuming validation_generator is still in the notebook's environment\n",
        "    class_indices = None\n",
        "    if 'validation_generator' in locals():\n",
        "        class_indices = validation_generator.class_indices\n",
        "        inv_map = {v: k for k, v in class_indices.items()}\n",
        "    else:\n",
        "        print(\"Warning: validation_generator not found. Cannot map class indices to names.\")\n",
        "        inv_map = {0: 'Class 0', 1: 'Class 1'} # Default mapping\n",
        "\n",
        "    # Display results for each image\n",
        "    print(\"\\n--- Predictions ---\")\n",
        "    for i, pred in enumerate(predictions):\n",
        "        predicted_class_index = np.argmax(pred)\n",
        "        predicted_class_name = inv_map.get(predicted_class_index, f'Unknown Class {predicted_class_index}')\n",
        "        confidence = pred[predicted_class_index]\n",
        "\n",
        "        print(f\"Image: {processed_image_paths[i]}\")\n",
        "        print(f\"  Predicted Class: {predicted_class_name} (Index: {predicted_class_index})\")\n",
        "        print(f\"  Confidence: {confidence:.4f}\")\n",
        "        # Optionally, print the full prediction array:\n",
        "        # print(f\"  Full Predictions: {pred}\")\n",
        "    print(\"-------------------\")\n",
        "\n",
        "# Example usage:\n",
        "# Create a list of image paths you want to predict on\n",
        "# Replace these with actual paths to your images\n",
        "image_paths_to_predict = [\n",
        "    'infected_1.jpg',\n",
        "    'infected_2.jpg',\n",
        "    'normal_1.jpg',\n",
        "    'normal_2.jpg'\n",
        "]\n",
        "\n",
        "# Make predictions using the function\n",
        "predict_image_list(image_paths_to_predict, model, IMG_SIZE)"
      ],
      "execution_count": null,
      "outputs": [
        {
          "output_type": "stream",
          "name": "stderr",
          "text": [
            "/usr/local/lib/python3.11/dist-packages/keras/src/saving/saving_lib.py:757: UserWarning: Skipping variable loading for optimizer 'rmsprop', because it has 6 variables whereas the saved optimizer has 10 variables. \n",
            "  saveable.load_own_variables(weights_store.get(inner_path))\n"
          ]
        },
        {
          "output_type": "stream",
          "name": "stdout",
          "text": [
            "\u001b[1m1/1\u001b[0m \u001b[32m━━━━━━━━━━━━━━━━━━━━\u001b[0m\u001b[37m\u001b[0m \u001b[1m1s\u001b[0m 1s/step\n",
            "Warning: validation_generator not found. Cannot map class indices to names.\n",
            "\n",
            "--- Predictions ---\n",
            "Image: infected_1.jpg\n",
            "  Predicted Class: Class 0 (Index: 0)\n",
            "  Confidence: 0.8207\n",
            "Image: infected_2.jpg\n",
            "  Predicted Class: Class 0 (Index: 0)\n",
            "  Confidence: 0.9928\n",
            "Image: normal_1.jpg\n",
            "  Predicted Class: Class 1 (Index: 1)\n",
            "  Confidence: 0.9999\n",
            "Image: normal_2.jpg\n",
            "  Predicted Class: Class 1 (Index: 1)\n",
            "  Confidence: 0.9992\n",
            "-------------------\n"
          ]
        }
      ]
    }
  ]
}